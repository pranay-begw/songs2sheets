{
 "cells": [
  {
   "cell_type": "code",
   "execution_count": 2,
   "metadata": {},
   "outputs": [],
   "source": [
    "import matplotlib.pyplot as plt\n",
    "import pretty_midi\n",
    "import librosa.display\n",
    "import numpy as np\n",
    "import pandas as pd\n",
    "import os\n",
    "import pickle"
   ]
  },
  {
   "cell_type": "code",
   "execution_count": 3,
   "metadata": {},
   "outputs": [],
   "source": [
    "data_path = '/home/hice1/sgoel83/scratch/Maestro/maestro-v3.0.0/'\n",
    "test_midi_path = '/home/hice1/sgoel83/scratch/Maestro/maestro-v3.0.0/2018/MIDI-Unprocessed_Chamber2_MID--AUDIO_09_R3_2018_wav--1.midi'"
   ]
  },
  {
   "attachments": {},
   "cell_type": "markdown",
   "metadata": {},
   "source": [
    "# Single MIDI file test"
   ]
  },
  {
   "cell_type": "code",
   "execution_count": 3,
   "metadata": {},
   "outputs": [
    {
     "name": "stdout",
     "output_type": "stream",
     "text": [
      "<class 'numpy.ndarray'>\n",
      "(128, 58224)\n"
     ]
    }
   ],
   "source": [
    "test_midi_data = pretty_midi.PrettyMIDI(test_midi_path)\n",
    "test_midi_piano_roll = test_midi_data.get_piano_roll()\n",
    "print(type(test_midi_piano_roll))\n",
    "print(test_midi_piano_roll.shape)\n",
    "# df_describe = pd.DataFrame(midi_piano_roll)\n",
    "# df_describe.describe()"
   ]
  },
  {
   "cell_type": "code",
   "execution_count": 4,
   "metadata": {},
   "outputs": [
    {
     "name": "stderr",
     "output_type": "stream",
     "text": [
      "/scratch/907741/ipykernel_1936994/4055584702.py:3: UserWarning: Frequency axis exceeds Nyquist. Did you remember to set all spectrogram parameters in specshow?\n",
      "  librosa.display.specshow(test_midi_data.get_piano_roll(fs)[start_pitch:end_pitch],\n"
     ]
    },
    {
     "data": {
      "image/png": "[encoded data removed]",
      "text/plain": [
       "<Figure size 800x400 with 1 Axes>"
      ]
     },
     "metadata": {},
     "output_type": "display_data"
    }
   ],
   "source": [
    "def plot_piano_roll(pm, start_pitch, end_pitch, fs=100):\n",
    "    # Use librosa's specshow function for displaying the piano roll\n",
    "    librosa.display.specshow(test_midi_data.get_piano_roll(fs)[start_pitch:end_pitch],\n",
    "                                hop_length=1, sr=fs, x_axis='time', y_axis='cqt_note',\n",
    "                                fmin=pretty_midi.note_number_to_hz(start_pitch))\n",
    "\n",
    "plt.figure(figsize=(8, 4))\n",
    "plot_piano_roll(test_midi_data, 9, 108) #A0 = 9, C8 = 108 - These are the limits of a piano - but should be 88 notes so is the highest note 97?"
   ]
  },
  {
   "attachments": {},
   "cell_type": "markdown",
   "metadata": {},
   "source": [
    "# For full dataset extraction\n",
    "\n",
    "### 2018 extraction is in the next section"
   ]
  },
  {
   "cell_type": "code",
   "execution_count": 20,
   "metadata": {},
   "outputs": [
    {
     "name": "stdout",
     "output_type": "stream",
     "text": [
      "0       2018/MIDI-Unprocessed_Chamber3_MID--AUDIO_10_R...\n",
      "1       2008/MIDI-Unprocessed_03_R2_2008_01-03_ORIG_MI...\n",
      "2       2017/MIDI-Unprocessed_066_PIANO066_MID--AUDIO-...\n",
      "3       2004/MIDI-Unprocessed_XP_21_R1_2004_01_ORIG_MI...\n",
      "4       2006/MIDI-Unprocessed_17_R1_2006_01-06_ORIG_MI...\n",
      "                              ...                        \n",
      "1271    2004/MIDI-Unprocessed_XP_14_R1_2004_04_ORIG_MI...\n",
      "1272    2004/MIDI-Unprocessed_XP_14_R1_2004_04_ORIG_MI...\n",
      "1273    2004/MIDI-Unprocessed_SMF_12_01_2004_01-05_ORI...\n",
      "1274    2018/MIDI-Unprocessed_Recital17-19_MID--AUDIO_...\n",
      "1275    2004/MIDI-Unprocessed_XP_04_R1_2004_01-02_ORIG...\n",
      "Name: midi_filename, Length: 1276, dtype: object\n"
     ]
    }
   ],
   "source": [
    "csv_maestro_midi = pd.read_csv(data_path+'maestro-v3.0.0.csv')\n",
    "midi_file_names = csv_maestro_midi['midi_filename']\n",
    "# print(midi_file_names)"
   ]
  },
  {
   "cell_type": "code",
   "execution_count": 5,
   "metadata": {},
   "outputs": [],
   "source": [
    "idx_to_cqt = {}"
   ]
  },
  {
   "cell_type": "code",
   "execution_count": 6,
   "metadata": {},
   "outputs": [
    {
     "name": "stdout",
     "output_type": "stream",
     "text": [
      "Converting midi file from 2004, with index 0, and file name MIDI-Unprocessed_SMF_22_R1_2004_01-04_ORIG_MID--AUDIO_22_R1_2004_10_Track10_wav.midi\n",
      "Converting midi file from 2018, with index 1, and file name MIDI-Unprocessed_Recital5-7_MID--AUDIO_06_R1_2018_wav--2.midi\n",
      "Converting midi file from 2004, with index 2, and file name MIDI-Unprocessed_XP_21_R1_2004_02_ORIG_MID--AUDIO_21_R1_2004_02_Track02_wav.midi\n",
      "Converting midi file from 2004, with index 3, and file name MIDI-Unprocessed_XP_21_R1_2004_02_ORIG_MID--AUDIO_21_R1_2004_03_Track03_wav.midi\n",
      "Converting midi file from 2018, with index 4, and file name MIDI-Unprocessed_Recital5-7_MID--AUDIO_05_R1_2018_wav--1.midi\n",
      "Converting midi file from 2009, with index 5, and file name MIDI-Unprocessed_17_R1_2009_01-03_ORIG_MID--AUDIO_17_R1_2009_17_R1_2009_01_WAV.midi\n",
      "Converting midi file from 2009, with index 6, and file name MIDI-Unprocessed_20_R1_2009_01-05_ORIG_MID--AUDIO_20_R1_2009_20_R1_2009_01_WAV.midi\n",
      "Converting midi file from 2011, with index 7, and file name MIDI-Unprocessed_12_R3_2011_MID--AUDIO_R3-D4_03_Track03_wav.midi\n",
      "Converting midi file from 2011, with index 8, and file name MIDI-Unprocessed_17_R3_2011_MID--AUDIO_R3-D6_02_Track02_wav.midi\n",
      "Converting midi file from 2011, with index 9, and file name MIDI-Unprocessed_22_R3_2011_MID--AUDIO_R3-D7_03_Track03_wav.midi\n",
      "Converting midi file from 2011, with index 10, and file name MIDI-Unprocessed_25_R3_2011_MID--AUDIO_R3-D9_04_Track04_wav.midi\n",
      "Converting midi file from 2015, with index 11, and file name MIDI-Unprocessed_R2_D2-19-21-22_mid--AUDIO-from_mp3_19_R2_2015_wav--2.midi\n",
      "Converting midi file from 2008, with index 12, and file name MIDI-Unprocessed_02_R3_2008_01-03_ORIG_MID--AUDIO_02_R3_2008_wav--1.midi\n",
      "Converting midi file from 2008, with index 13, and file name MIDI-Unprocessed_03_R3_2008_01-03_ORIG_MID--AUDIO_03_R3_2008_wav--1.midi\n",
      "Converting midi file from 2008, with index 14, and file name MIDI-Unprocessed_04_R3_2008_01-07_ORIG_MID--AUDIO_04_R3_2008_wav--1.midi\n",
      "Converting midi file from 2008, with index 15, and file name MIDI-Unprocessed_09_R3_2008_01-07_ORIG_MID--AUDIO_09_R3_2008_wav--4.midi\n",
      "Converting midi file from 2008, with index 16, and file name MIDI-Unprocessed_12_R3_2008_01-04_ORIG_MID--AUDIO_12_R3_2008_wav--1.midi\n",
      "Converting midi file from 2015, with index 17, and file name MIDI-Unprocessed_R2_D2-12-13-15_mid--AUDIO-from_mp3_12_R2_2015_wav--1.midi\n",
      "Converting midi file from 2015, with index 18, and file name MIDI-Unprocessed_R2_D2-19-21-22_mid--AUDIO-from_mp3_21_R2_2015_wav--2.midi\n",
      "Converting midi file from 2015, with index 19, and file name MIDI-Unprocessed_R2_D2-19-21-22_mid--AUDIO-from_mp3_22_R2_2015_wav--2.midi\n",
      "Converting midi file from 2013, with index 20, and file name ORIG-MIDI_01_7_10_13_Group_MID--AUDIO_07_R3_2013_wav--2.midi\n",
      "Converting midi file from 2013, with index 21, and file name ORIG-MIDI_01_7_10_13_Group_MID--AUDIO_08_R3_2013_wav--1.midi\n",
      "Converting midi file from 2013, with index 22, and file name ORIG-MIDI_02_7_10_13_Group_MID--AUDIO_12_R3_2013_wav--1.midi\n",
      "Converting midi file from 2017, with index 23, and file name MIDI-Unprocessed_071_PIANO071_MID--AUDIO-split_07-08-17_Piano-e_1-04_wav--1.midi\n",
      "Converting midi file from 2017, with index 24, and file name MIDI-Unprocessed_073_PIANO073_MID--AUDIO-split_07-08-17_Piano-e_2-02_wav--1.midi\n",
      "Converting midi file from 2017, with index 25, and file name MIDI-Unprocessed_075_PIANO075_MID--AUDIO-split_07-08-17_Piano-e_2-06_wav--2.midi\n",
      "Converting midi file from 2017, with index 26, and file name MIDI-Unprocessed_078_PIANO078_MID--AUDIO-split_07-09-17_Piano-e_1-02_wav--1.midi\n",
      "Converting midi file from 2017, with index 27, and file name MIDI-Unprocessed_079_PIANO079_MID--AUDIO-split_07-09-17_Piano-e_1-04_wav--3.midi\n",
      "Converting midi file from 2017, with index 28, and file name MIDI-Unprocessed_080_PIANO080_MID--AUDIO-split_07-09-17_Piano-e_1-06_wav--2.midi\n",
      "Converting midi file from 2017, with index 29, and file name MIDI-Unprocessed_082_PIANO082_MID--AUDIO-split_07-09-17_Piano-e_2_-04_wav--1.midi\n",
      "Converting midi file from 2013, with index 30, and file name ORIG-MIDI_02_7_10_13_Group_MID--AUDIO_14_R3_2013_wav--1.midi\n",
      "Converting midi file from 2015, with index 31, and file name MIDI-Unprocessed_R2_D1-2-3-6-7-8-11_mid--AUDIO-from_mp3_08_R2_2015_wav--1.midi\n",
      "Converting midi file from 2015, with index 32, and file name MIDI-Unprocessed_R2_D1-2-3-6-7-8-11_mid--AUDIO-from_mp3_11_R2_2015_wav--1.midi\n",
      "Converting midi file from 2009, with index 33, and file name MIDI-Unprocessed_16_R1_2009_01-02_ORIG_MID--AUDIO_16_R1_2009_16_R1_2009_01_WAV.midi\n",
      "Converting midi file from 2008, with index 34, and file name MIDI-Unprocessed_02_R1_2008_01-05_ORIG_MID--AUDIO_02_R1_2008_wav--5.midi\n",
      "Converting midi file from 2008, with index 35, and file name MIDI-Unprocessed_06_R1_2008_01-04_ORIG_MID--AUDIO_06_R1_2008_wav--4.midi\n",
      "Converting midi file from 2011, with index 36, and file name MIDI-Unprocessed_03_R3_2011_MID--AUDIO_R3-D1_06_Track06_wav.midi\n",
      "Converting midi file from 2004, with index 37, and file name MIDI-Unprocessed_XP_04_R1_2004_06_ORIG_MID--AUDIO_04_R1_2004_08_Track08_wav.midi\n",
      "Converting midi file from 2006, with index 38, and file name MIDI-Unprocessed_13_R1_2006_01-06_ORIG_MID--AUDIO_13_R1_2006_05_Track05_wav.midi\n",
      "Converting midi file from 2011, with index 39, and file name MIDI-Unprocessed_21_R1_2011_MID--AUDIO_R1-D8_10_Track10_wav.midi\n",
      "Converting midi file from 2006, with index 40, and file name MIDI-Unprocessed_04_R1_2006_01-04_ORIG_MID--AUDIO_04_R1_2006_04_Track04_wav.midi\n",
      "Converting midi file from 2006, with index 41, and file name MIDI-Unprocessed_18_R1_2006_01-05_ORIG_MID--AUDIO_18_R1_2006_05_Track05_wav.midi\n",
      "Converting midi file from 2004, with index 42, and file name MIDI-Unprocessed_XP_03_R1_2004_01-02_ORIG_MID--AUDIO_03_R1_2004_02_Track02_wav.midi\n",
      "Converting midi file from 2004, with index 43, and file name MIDI-Unprocessed_XP_21_R1_2004_03_ORIG_MID--AUDIO_21_R1_2004_04_Track04_wav.midi\n",
      "Converting midi file from 2018, with index 44, and file name MIDI-Unprocessed_Recital5-7_MID--AUDIO_07_R1_2018_wav--4.midi\n",
      "Converting midi file from 2018, with index 45, and file name MIDI-Unprocessed_Recital8_MID--AUDIO_08_R1_2018_wav--4.midi\n",
      "Converting midi file from 2009, with index 46, and file name MIDI-Unprocessed_18_R1_2009_01-03_ORIG_MID--AUDIO_18_R1_2009_18_R1_2009_02_WAV.midi\n",
      "Converting midi file from 2006, with index 47, and file name MIDI-Unprocessed_18_R1_2006_01-05_ORIG_MID--AUDIO_18_R1_2006_01_Track01_wav.midi\n",
      "Converting midi file from 2011, with index 48, and file name MIDI-Unprocessed_10_R1_2011_MID--AUDIO_R1-D4_04_Track04_wav.midi\n",
      "Converting midi file from 2009, with index 49, and file name MIDI-Unprocessed_15_R1_2009_01-02_ORIG_MID--AUDIO_15_R1_2009_15_R1_2009_01_WAV.midi\n",
      "Converting midi file from 2006, with index 50, and file name MIDI-Unprocessed_15_R1_2006_01-05_ORIG_MID--AUDIO_15_R1_2006_01_Track01_wav.midi\n",
      "Converting midi file from 2013, with index 51, and file name ORIG-MIDI_02_7_6_13_Group__MID--AUDIO_07_R1_2013_wav--2.midi\n",
      "Converting midi file from 2008, with index 52, and file name MIDI-Unprocessed_16_R1_2008_01-04_ORIG_MID--AUDIO_16_R1_2008_wav--4.midi\n",
      "Converting midi file from 2009, with index 53, and file name MIDI-Unprocessed_03_R1_2009_03-08_ORIG_MID--AUDIO_03_R1_2009_03_R1_2009_05_WAV.midi\n",
      "Converting midi file from 2017, with index 54, and file name MIDI-Unprocessed_078_PIANO078_MID--AUDIO-split_07-09-17_Piano-e_1-02_wav--3.midi\n",
      "Converting midi file from 2014, with index 55, and file name MIDI-UNPROCESSED_09-10_R1_2014_MID--AUDIO_10_R1_2014_wav--5.midi\n",
      "Converting midi file from 2018, with index 56, and file name MIDI-Unprocessed_Recital16_MID--AUDIO_16_R1_2018_wav--2.midi\n",
      "Converting midi file from 2006, with index 57, and file name MIDI-Unprocessed_13_R1_2006_01-06_ORIG_MID--AUDIO_13_R1_2006_01_Track01_wav.midi\n",
      "Converting midi file from 2008, with index 58, and file name MIDI-Unprocessed_08_R1_2008_01-05_ORIG_MID--AUDIO_08_R1_2008_wav--5.midi\n",
      "Converting midi file from 2018, with index 59, and file name MIDI-Unprocessed_Recital13-15_MID--AUDIO_15_R1_2018_wav--2.midi\n",
      "Converting midi file from 2018, with index 60, and file name MIDI-Unprocessed_Recital1-3_MID--AUDIO_02_R1_2018_wav--3.midi\n",
      "Converting midi file from 2006, with index 61, and file name MIDI-Unprocessed_18_R1_2006_01-05_ORIG_MID--AUDIO_18_R1_2006_03_Track03_wav.midi\n",
      "Converting midi file from 2008, with index 62, and file name MIDI-Unprocessed_17_R2_2008_01-04_ORIG_MID--AUDIO_17_R2_2008_wav--2.midi\n",
      "Converting midi file from 2009, with index 63, and file name MIDI-Unprocessed_13_R1_2009_01-03_ORIG_MID--AUDIO_13_R1_2009_13_R1_2009_01_WAV.midi\n",
      "Converting midi file from 2006, with index 64, and file name MIDI-Unprocessed_24_R1_2006_01-05_ORIG_MID--AUDIO_24_R1_2006_04_Track04_wav.midi\n",
      "Converting midi file from 2008, with index 65, and file name MIDI-Unprocessed_09_R1_2008_01-05_ORIG_MID--AUDIO_09_R1_2008_wav--5.midi\n",
      "Converting midi file from 2014, with index 66, and file name MIDI-UNPROCESSED_16-18_R1_2014_MID--AUDIO_18_R1_2014_wav--5.midi\n",
      "Converting midi file from 2008, with index 67, and file name MIDI-Unprocessed_02_R2_2008_01-05_ORIG_MID--AUDIO_02_R2_2008_wav--5.midi\n",
      "Converting midi file from 2004, with index 68, and file name MIDI-Unprocessed_SMF_16_R1_2004_01-08_ORIG_MID--AUDIO_16_R1_2004_13_Track13_wav.midi\n",
      "Converting midi file from 2004, with index 69, and file name MIDI-Unprocessed_XP_11_R1_2004_03-04_ORIG_MID--AUDIO_11_R1_2004_03_Track03_wav.midi\n",
      "Converting midi file from 2008, with index 70, and file name MIDI-Unprocessed_02_R2_2008_01-05_ORIG_MID--AUDIO_02_R2_2008_wav--3.midi\n",
      "Converting midi file from 2008, with index 71, and file name MIDI-Unprocessed_02_R2_2008_01-05_ORIG_MID--AUDIO_02_R2_2008_wav--4.midi\n",
      "Converting midi file from 2006, with index 72, and file name MIDI-Unprocessed_09_R1_2006_01-04_ORIG_MID--AUDIO_09_R1_2006_04_Track04_wav.midi\n",
      "Converting midi file from 2006, with index 73, and file name MIDI-Unprocessed_13_R1_2006_01-06_ORIG_MID--AUDIO_13_R1_2006_04_Track04_wav.midi\n",
      "Converting midi file from 2004, with index 74, and file name MIDI-Unprocessed_SMF_16_R1_2004_01-08_ORIG_MID--AUDIO_16_R1_2004_05_Track05_wav.midi\n",
      "Converting midi file from 2006, with index 75, and file name MIDI-Unprocessed_16_R1_2006_01-04_ORIG_MID--AUDIO_16_R1_2006_02_Track02_wav.midi\n",
      "Converting midi file from 2009, with index 76, and file name MIDI-Unprocessed_17_R1_2009_01-03_ORIG_MID--AUDIO_17_R1_2009_17_R1_2009_02_WAV.midi\n",
      "Converting midi file from 2015, with index 77, and file name MIDI-Unprocessed_R2_D1-2-3-6-7-8-11_mid--AUDIO-from_mp3_08_R2_2015_wav--3.midi\n",
      "Converting midi file from 2011, with index 78, and file name MIDI-Unprocessed_04_R1_2011_MID--AUDIO_R1-D2_06_Track06_wav.midi\n",
      "Converting midi file from 2008, with index 79, and file name MIDI-Unprocessed_12_R2_2008_01-04_ORIG_MID--AUDIO_12_R2_2008_wav--3.midi\n",
      "Converting midi file from 2013, with index 80, and file name ORIG-MIDI_01_7_7_13_Group__MID--AUDIO_12_R1_2013_wav--5.midi\n",
      "Converting midi file from 2013, with index 81, and file name ORIG-MIDI_01_7_7_13_Group__MID--AUDIO_13_R1_2013_wav--4.midi\n",
      "Converting midi file from 2013, with index 82, and file name ORIG-MIDI_02_7_8_13_Group__MID--AUDIO_08_R2_2013_wav--3.midi\n",
      "Converting midi file from 2011, with index 83, and file name MIDI-Unprocessed_08_R1_2011_MID--AUDIO_R1-D3_09_Track09_wav.midi\n",
      "Converting midi file from 2014, with index 84, and file name MIDI-UNPROCESSED_01-03_R1_2014_MID--AUDIO_01_R1_2014_wav--5.midi\n",
      "Converting midi file from 2013, with index 85, and file name ORIG-MIDI_03_7_10_13_Group_MID--AUDIO_15_R3_2013_wav--2.midi\n",
      "Converting midi file from 2004, with index 86, and file name MIDI-Unprocessed_XP_01_R1_2004_03_ORIG_MID--AUDIO_01_R1_2004_04_Track04_wav.midi\n",
      "Converting midi file from 2004, with index 87, and file name MIDI-Unprocessed_XP_10_R1_2004_05_ORIG_MID--AUDIO_10_R1_2004_05_Track05_wav.midi\n",
      "Converting midi file from 2018, with index 88, and file name MIDI-Unprocessed_Recital13-15_MID--AUDIO_15_R1_2018_wav--4.midi\n",
      "Converting midi file from 2014, with index 89, and file name MIDI-UNPROCESSED_01-03_R1_2014_MID--AUDIO_03_R1_2014_wav--6.midi\n",
      "Converting midi file from 2004, with index 90, and file name MIDI-Unprocessed_XP_19_R1_2004_01-02_ORIG_MID--AUDIO_19_R1_2004_03_Track03_wav.midi\n",
      "Converting midi file from 2018, with index 91, and file name MIDI-Unprocessed_Recital9-11_MID--AUDIO_11_R1_2018_wav--5.midi\n",
      "Converting midi file from 2018, with index 92, and file name MIDI-Unprocessed_Recital17-19_MID--AUDIO_17_R1_2018_wav--4.midi\n",
      "Converting midi file from 2004, with index 93, and file name MIDI-Unprocessed_XP_08_R1_2004_01-02_ORIG_MID--AUDIO_08_R1_2004_02_Track02_wav.midi\n",
      "Converting midi file from 2018, with index 94, and file name MIDI-Unprocessed_Recital1-3_MID--AUDIO_03_R1_2018_wav--2.midi\n",
      "Converting midi file from 2014, with index 95, and file name MIDI-UNPROCESSED_01-03_R1_2014_MID--AUDIO_02_R1_2014_wav--4.midi\n",
      "Converting midi file from 2014, with index 96, and file name MIDI-UNPROCESSED_19-20_R1_2014_MID--AUDIO_20_R1_2014_wav--2.midi\n",
      "Converting midi file from 2004, with index 97, and file name MIDI-Unprocessed_XP_11_R1_2004_01-02_ORIG_MID--AUDIO_11_R1_2004_02_Track02_wav.midi\n",
      "Converting midi file from 2006, with index 98, and file name MIDI-Unprocessed_23_R1_2006_01-05_ORIG_MID--AUDIO_23_R1_2006_04_Track04_wav.midi\n",
      "Converting midi file from 2004, with index 99, and file name MIDI-Unprocessed_SMF_17_R1_2004_01-02_ORIG_MID--AUDIO_20_R2_2004_04_Track04_wav.midi\n",
      "Converting midi file from 2004, with index 100, and file name MIDI-Unprocessed_SMF_17_R1_2004_01-02_ORIG_MID--AUDIO_20_R2_2004_06_Track06_wav.midi\n",
      "Converting midi file from 2009, with index 101, and file name MIDI-Unprocessed_05_R1_2009_03-05_ORIG_MID--AUDIO_05_R1_2009_05_R1_2009_03_WAV.midi\n",
      "Converting midi file from 2014, with index 102, and file name MIDI-UNPROCESSED_11-13_R1_2014_MID--AUDIO_12_R1_2014_wav--1.midi\n",
      "Converting midi file from 2014, with index 103, and file name MIDI-UNPROCESSED_09-10_R1_2014_MID--AUDIO_10_R1_2014_wav--3.midi\n",
      "Converting midi file from 2011, with index 104, and file name MIDI-Unprocessed_23_R3_2011_MID--AUDIO_R3-D8_03_Track03_wav.midi\n",
      "Converting midi file from 2011, with index 105, and file name MIDI-Unprocessed_23_R3_2011_MID--AUDIO_R3-D8_04_Track04_wav.midi\n",
      "Converting midi file from 2006, with index 106, and file name MIDI-Unprocessed_01_R1_2006_01-09_ORIG_MID--AUDIO_01_R1_2006_01_Track01_wav.midi\n",
      "Converting midi file from 2014, with index 107, and file name MIDI-UNPROCESSED_04-08-12_R3_2014_MID--AUDIO_08_R3_2014_wav.midi\n",
      "Converting midi file from 2009, with index 108, and file name MIDI-Unprocessed_13_R1_2009_04_ORIG_MID--AUDIO_13_R1_2009_13_R1_2009_04_WAV.midi\n",
      "Converting midi file from 2018, with index 109, and file name MIDI-Unprocessed_Recital4_MID--AUDIO_04_R1_2018_wav--4.midi\n",
      "Converting midi file from 2014, with index 110, and file name MIDI-UNPROCESSED_04-05_R1_2014_MID--AUDIO_04_R1_2014_wav--3.midi\n",
      "Converting midi file from 2017, with index 111, and file name MIDI-Unprocessed_073_PIANO073_MID--AUDIO-split_07-08-17_Piano-e_2-02_wav--4.midi\n",
      "Converting midi file from 2006, with index 112, and file name MIDI-Unprocessed_08_R1_2006_01-04_ORIG_MID--AUDIO_08_R1_2006_Disk1_03_Track03_wav.midi\n",
      "Converting midi file from 2006, with index 113, and file name MIDI-Unprocessed_14_R1_2006_01-05_ORIG_MID--AUDIO_14_R1_2006_01_Track01_wav.midi\n",
      "Converting midi file from 2006, with index 114, and file name MIDI-Unprocessed_16_R1_2006_01-04_ORIG_MID--AUDIO_16_R1_2006_03_Track03_wav.midi\n",
      "Converting midi file from 2018, with index 115, and file name MIDI-Unprocessed_Recital13-15_MID--AUDIO_13_R1_2018_wav--2.midi\n",
      "Converting midi file from 2018, with index 116, and file name MIDI-Unprocessed_Recital20_MID--AUDIO_20_R1_2018_wav--4.midi\n",
      "Converting midi file from 2009, with index 117, and file name MIDI-Unprocessed_02_R1_2009_01-02_ORIG_MID--AUDIO_02_R1_2009_02_R1_2009_02_WAV.midi\n",
      "Converting midi file from 2014, with index 118, and file name MIDI-UNPROCESSED_14-15_R1_2014_MID--AUDIO_15_R1_2014_wav--6.midi\n",
      "Converting midi file from 2015, with index 119, and file name MIDI-Unprocessed_R2_D2-12-13-15_mid--AUDIO-from_mp3_15_R2_2015_wav--3.midi\n",
      "Converting midi file from 2014, with index 120, and file name MIDI-UNPROCESSED_21-22_R1_2014_MID--AUDIO_21_R1_2014_wav--8.midi\n",
      "Converting midi file from 2006, with index 121, and file name MIDI-Unprocessed_06_R1_2006_01-04_ORIG_MID--AUDIO_06_R1_2006_02_Track02_wav.midi\n",
      "Converting midi file from 2014, with index 122, and file name MIDI-UNPROCESSED_11-13_R1_2014_MID--AUDIO_13_R1_2014_wav--4.midi\n",
      "Converting midi file from 2014, with index 123, and file name MIDI-UNPROCESSED_19-20_R1_2014_MID--AUDIO_19_R1_2014_wav--8.midi\n",
      "Converting midi file from 2004, with index 124, and file name MIDI-Unprocessed_SMF_02_R1_2004_01-05_ORIG_MID--AUDIO_02_R1_2004_10_Track10_wav.midi\n",
      "Converting midi file from 2009, with index 125, and file name MIDI-Unprocessed_20_R1_2009_01-05_ORIG_MID--AUDIO_20_R1_2009_20_R1_2009_02_WAV.midi\n",
      "Converting midi file from 2008, with index 126, and file name MIDI-Unprocessed_15_R2_2008_01-04_ORIG_MID--AUDIO_15_R2_2008_wav--3.midi\n",
      "Converting midi file from 2006, with index 127, and file name MIDI-Unprocessed_09_R1_2006_01-04_ORIG_MID--AUDIO_09_R1_2006_03_Track03_wav.midi\n",
      "Converting midi file from 2011, with index 128, and file name MIDI-Unprocessed_12_R2_2011_MID--AUDIO_R2-D4_02_Track02_wav.midi\n",
      "Converting midi file from 2013, with index 129, and file name ORIG-MIDI_01_7_6_13_Group__MID--AUDIO_01_R1_2013_wav--3.midi\n",
      "Converting midi file from 2004, with index 130, and file name MIDI-Unprocessed_SMF_16_R1_2004_01-08_ORIG_MID--AUDIO_16_R1_2004_03_Track03_wav.midi\n",
      "Converting midi file from 2018, with index 131, and file name MIDI-Unprocessed_Recital17-19_MID--AUDIO_17_R1_2018_wav--2.midi\n",
      "Converting midi file from 2008, with index 132, and file name MIDI-Unprocessed_08_R1_2008_01-05_ORIG_MID--AUDIO_08_R1_2008_wav--3.midi\n",
      "Converting midi file from 2008, with index 133, and file name MIDI-Unprocessed_09_R1_2008_01-05_ORIG_MID--AUDIO_09_R1_2008_wav--4.midi\n",
      "Converting midi file from 2017, with index 134, and file name MIDI-Unprocessed_049_PIANO049_MID--AUDIO-split_07-06-17_Piano-e_2-06_wav--4.midi\n",
      "Converting midi file from 2014, with index 135, and file name MIDI-UNPROCESSED_04-05_R1_2014_MID--AUDIO_04_R1_2014_wav--5.midi\n",
      "Converting midi file from 2015, with index 136, and file name MIDI-Unprocessed_R1_D2-13-20_mid--AUDIO-from_mp3_17_R1_2015_wav--3.midi\n",
      "Converting midi file from 2011, with index 137, and file name MIDI-Unprocessed_23_R1_2011_MID--AUDIO_R1-D9_05_Track05_wav.midi\n",
      "Converting midi file from 2013, with index 138, and file name ORIG-MIDI_01_7_6_13_Group__MID--AUDIO_04_R1_2013_wav--3.midi\n",
      "Converting midi file from 2008, with index 139, and file name MIDI-Unprocessed_05_R1_2008_01-04_ORIG_MID--AUDIO_05_R1_2008_wav--4.midi\n",
      "Converting midi file from 2008, with index 140, and file name MIDI-Unprocessed_12_R1_2008_01-04_ORIG_MID--AUDIO_12_R1_2008_wav--3.midi\n",
      "Converting midi file from 2004, with index 141, and file name MIDI-Unprocessed_SMF_02_R1_2004_01-05_ORIG_MID--AUDIO_02_R1_2004_06_Track06_wav.midi\n",
      "Converting midi file from 2004, with index 142, and file name MIDI-Unprocessed_SMF_02_R1_2004_01-05_ORIG_MID--AUDIO_02_R1_2004_08_Track08_wav.midi\n",
      "Converting midi file from 2006, with index 143, and file name MIDI-Unprocessed_12_R1_2006_01-08_ORIG_MID--AUDIO_12_R1_2006_07_Track07_wav.midi\n",
      "Converting midi file from 2018, with index 144, and file name MIDI-Unprocessed_Recital5-7_MID--AUDIO_05_R1_2018_wav--3.midi\n",
      "Converting midi file from 2004, with index 145, and file name MIDI-Unprocessed_SMF_16_R1_2004_01-08_ORIG_MID--AUDIO_16_R1_2004_04_Track04_wav.midi\n",
      "Converting midi file from 2006, with index 146, and file name MIDI-Unprocessed_12_R1_2006_01-08_ORIG_MID--AUDIO_12_R1_2006_03_Track03_wav.midi\n",
      "Converting midi file from 2004, with index 147, and file name MIDI-Unprocessed_XP_08_R1_2004_04-06_ORIG_MID--AUDIO_08_R1_2004_05_Track05_wav--2.midi\n",
      "Converting midi file from 2017, with index 148, and file name MIDI-Unprocessed_060_PIANO060_MID--AUDIO-split_07-07-17_Piano-e_2-04_wav--2.midi\n",
      "Converting midi file from 2018, with index 149, and file name MIDI-Unprocessed_Recital1-3_MID--AUDIO_03_R1_2018_wav--4.midi\n",
      "Converting midi file from 2018, with index 150, and file name MIDI-Unprocessed_Recital1-3_MID--AUDIO_03_R1_2018_wav--5.midi\n",
      "Converting midi file from 2013, with index 151, and file name ORIG-MIDI_01_7_6_13_Group__MID--AUDIO_02_R1_2013_wav--4.midi\n",
      "Converting midi file from 2006, with index 152, and file name MIDI-Unprocessed_22_R1_2006_01-04_ORIG_MID--AUDIO_22_R1_2006_04_Track04_wav.midi\n",
      "Converting midi file from 2011, with index 153, and file name MIDI-Unprocessed_17_R3_2011_MID--AUDIO_R3-D6_03_Track03_wav.midi\n",
      "Converting midi file from 2011, with index 154, and file name MIDI-Unprocessed_17_R3_2011_MID--AUDIO_R3-D6_04_Track04_wav.midi\n",
      "Converting midi file from 2011, with index 155, and file name MIDI-Unprocessed_17_R3_2011_MID--AUDIO_R3-D6_05_Track05_wav.midi\n",
      "Converting midi file from 2011, with index 156, and file name MIDI-Unprocessed_17_R3_2011_MID--AUDIO_R3-D6_06_Track06_wav.midi\n",
      "Converting midi file from 2011, with index 157, and file name MIDI-Unprocessed_17_R3_2011_MID--AUDIO_R3-D6_07_Track07_wav.midi\n",
      "Converting midi file from 2011, with index 158, and file name MIDI-Unprocessed_17_R3_2011_MID--AUDIO_R3-D6_08_Track08_wav.midi\n",
      "Converting midi file from 2004, with index 159, and file name MIDI-Unprocessed_SMF_16_R1_2004_01-08_ORIG_MID--AUDIO_16_R1_2004_06_Track06_wav.midi\n",
      "Converting midi file from 2006, with index 160, and file name MIDI-Unprocessed_12_R1_2006_01-08_ORIG_MID--AUDIO_12_R1_2006_04_Track04_wav.midi\n",
      "Converting midi file from 2004, with index 161, and file name MIDI-Unprocessed_SMF_13_01_2004_01-05_ORIG_MID--AUDIO_13_R1_2004_12_Track12_wav.midi\n",
      "Converting midi file from 2015, with index 162, and file name MIDI-Unprocessed_R1_D1-9-12_mid--AUDIO-from_mp3_11_R1_2015_wav--4.midi\n",
      "Converting midi file from 2008, with index 163, and file name MIDI-Unprocessed_12_R3_2008_01-04_ORIG_MID--AUDIO_12_R3_2008_wav--3.midi\n",
      "Converting midi file from 2004, with index 164, and file name MIDI-Unprocessed_XP_08_R1_2004_04-06_ORIG_MID--AUDIO_08_R1_2004_04_Track04_wav.midi\n",
      "Converting midi file from 2006, with index 165, and file name MIDI-Unprocessed_12_R1_2006_01-08_ORIG_MID--AUDIO_12_R1_2006_05_Track05_wav.midi\n",
      "Converting midi file from 2018, with index 166, and file name MIDI-Unprocessed_Recital17-19_MID--AUDIO_19_R1_2018_wav--5.midi\n",
      "Converting midi file from 2015, with index 167, and file name MIDI-Unprocessed_R1_D1-9-12_mid--AUDIO-from_mp3_11_R1_2015_wav--5.midi\n",
      "Converting midi file from 2004, with index 168, and file name MIDI-Unprocessed_XP_08_R1_2004_04-06_ORIG_MID--AUDIO_08_R1_2004_05_Track05_wav--1.midi\n",
      "Converting midi file from 2006, with index 169, and file name MIDI-Unprocessed_14_R1_2006_01-05_ORIG_MID--AUDIO_14_R1_2006_04_Track04_wav.midi\n",
      "Converting midi file from 2004, with index 170, and file name MIDI-Unprocessed_SMF_16_R1_2004_01-08_ORIG_MID--AUDIO_16_R1_2004_02_Track02_wav.midi\n",
      "Converting midi file from 2014, with index 171, and file name MIDI-UNPROCESSED_04-05_R1_2014_MID--AUDIO_04_R1_2014_wav--4.midi\n",
      "Converting midi file from 2013, with index 172, and file name ORIG-MIDI_02_7_6_13_Group__MID--AUDIO_05_R1_2013_wav--3.midi\n",
      "Converting midi file from 2011, with index 173, and file name MIDI-Unprocessed_03_R2_2011_MID--AUDIO_R2-D1_06_Track06_wav.midi\n",
      "Converting midi file from 2018, with index 174, and file name MIDI-Unprocessed_Recital17-19_MID--AUDIO_19_R1_2018_wav--6.midi\n",
      "Converting midi file from 2011, with index 175, and file name MIDI-Unprocessed_12_R3_2011_MID--AUDIO_R3-D4_04_Track04_wav.midi\n",
      "Converting midi file from 2011, with index 176, and file name MIDI-Unprocessed_12_R3_2011_MID--AUDIO_R3-D4_07_Track07_wav.midi\n",
      "Converting midi file from 2011, with index 177, and file name MIDI-Unprocessed_12_R3_2011_MID--AUDIO_R3-D4_08_Track08_wav.midi\n",
      "Converting midi file from 2011, with index 178, and file name MIDI-Unprocessed_12_R3_2011_MID--AUDIO_R3-D4_09_Track09_wav.midi\n",
      "Converting midi file from 2004, with index 179, and file name MIDI-Unprocessed_XP_15_R1_2004_04_ORIG_MID--AUDIO_15_R1_2004_04_Track04_wav.midi\n",
      "Converting midi file from 2004, with index 180, and file name MIDI-Unprocessed_XP_01_R1_2004_04-05_ORIG_MID--AUDIO_01_R1_2004_06_Track06_wav.midi\n",
      "Converting midi file from 2009, with index 181, and file name MIDI-Unprocessed_14_R1_2009_06-08_ORIG_MID--AUDIO_14_R1_2009_14_R1_2009_08_WAV.midi\n",
      "Converting midi file from 2009, with index 182, and file name MIDI-Unprocessed_08_R1_2009_05-06_ORIG_MID--AUDIO_08_R1_2009_08_R1_2009_06_WAV.midi\n",
      "Converting midi file from 2004, with index 183, and file name MIDI-Unprocessed_SMF_16_R1_2004_01-08_ORIG_MID--AUDIO_16_R1_2004_08_Track08_wav.midi\n",
      "Converting midi file from 2006, with index 184, and file name MIDI-Unprocessed_03_R1_2006_01-05_ORIG_MID--AUDIO_03_R1_2006_05_Track05_wav.midi\n",
      "Converting midi file from 2009, with index 185, and file name MIDI-Unprocessed_07_R1_2009_04-05_ORIG_MID--AUDIO_07_R1_2009_07_R1_2009_05_WAV.midi\n",
      "Converting midi file from 2006, with index 186, and file name MIDI-Unprocessed_12_R1_2006_01-08_ORIG_MID--AUDIO_12_R1_2006_08_Track08_wav.midi\n",
      "Converting midi file from 2009, with index 187, and file name MIDI-Unprocessed_04_R1_2009_04-06_ORIG_MID--AUDIO_04_R1_2009_04_R1_2009_06_WAV.midi\n",
      "Converting midi file from 2006, with index 188, and file name MIDI-Unprocessed_07_R1_2006_01-04_ORIG_MID--AUDIO_07_R1_2006_02_Track02_wav.midi\n",
      "Converting midi file from 2009, with index 189, and file name MIDI-Unprocessed_04_R1_2009_01-03_ORIG_MID--AUDIO_04_R1_2009_04_R1_2009_02_WAV.midi\n",
      "Converting midi file from 2018, with index 190, and file name MIDI-Unprocessed_Chamber2_MID--AUDIO_09_R3_2018_wav--1.midi\n",
      "Converting midi file from 2011, with index 191, and file name MIDI-Unprocessed_05_R1_2011_MID--AUDIO_R1-D2_12_Track12_wav.midi\n",
      "Converting midi file from 2006, with index 192, and file name MIDI-Unprocessed_24_R1_2006_01-05_ORIG_MID--AUDIO_24_R1_2006_01_Track01_wav.midi\n",
      "Converting midi file from 2015, with index 193, and file name MIDI-Unprocessed_R1_D1-1-8_mid--AUDIO-from_mp3_01_R1_2015_wav--3.midi\n",
      "Converting midi file from 2008, with index 194, and file name MIDI-Unprocessed_08_R1_2008_01-05_ORIG_MID--AUDIO_08_R1_2008_wav--2.midi\n",
      "Converting midi file from 2011, with index 195, and file name MIDI-Unprocessed_02_R1_2011_MID--AUDIO_R1-D1_09_Track09_wav.midi\n",
      "Converting midi file from 2013, with index 196, and file name ORIG-MIDI_03_7_10_13_Group_MID--AUDIO_17_R3_2013_wav--1.midi\n",
      "Converting midi file from 2017, with index 197, and file name MIDI-Unprocessed_052_PIANO052_MID--AUDIO-split_07-06-17_Piano-e_3-03_wav--3.midi\n",
      "Converting midi file from 2013, with index 198, and file name ORIG-MIDI_02_7_7_13_Group__MID--AUDIO_18_R1_2013_wav--3.midi\n",
      "Converting midi file from 2009, with index 199, and file name MIDI-Unprocessed_08_R1_2009_01-04_ORIG_MID--AUDIO_08_R1_2009_08_R1_2009_01_WAV.midi\n",
      "Converting midi file from 2015, with index 200, and file name MIDI-Unprocessed_R1_D2-13-20_mid--AUDIO-from_mp3_20_R1_2015_wav--2.midi\n",
      "Converting midi file from 2015, with index 201, and file name MIDI-Unprocessed_R1_D2-13-20_mid--AUDIO-from_mp3_18_R1_2015_wav--3.midi\n",
      "Converting midi file from 2008, with index 202, and file name MIDI-Unprocessed_02_R1_2008_01-05_ORIG_MID--AUDIO_02_R1_2008_wav--2.midi\n",
      "Converting midi file from 2018, with index 203, and file name MIDI-Unprocessed_Recital13-15_MID--AUDIO_13_R1_2018_wav--1.midi\n",
      "Converting midi file from 2013, with index 204, and file name ORIG-MIDI_01_7_7_13_Group__MID--AUDIO_11_R1_2013_wav--2.midi\n",
      "Converting midi file from 2018, with index 205, and file name MIDI-Unprocessed_Recital12_MID--AUDIO_12_R1_2018_wav--1.midi\n",
      "Converting midi file from 2008, with index 206, and file name MIDI-Unprocessed_14_R1_2008_01-05_ORIG_MID--AUDIO_14_R1_2008_wav--2.midi\n",
      "Converting midi file from 2008, with index 207, and file name MIDI-Unprocessed_07_R3_2008_01-05_ORIG_MID--AUDIO_07_R3_2008_wav--1.midi\n",
      "Converting midi file from 2011, with index 208, and file name MIDI-Unprocessed_03_R1_2011_MID--AUDIO_R1-D1_16_Track16_wav.midi\n",
      "Converting midi file from 2009, with index 209, and file name MIDI-Unprocessed_14_R1_2009_06-08_ORIG_MID--AUDIO_14_R1_2009_14_R1_2009_06_WAV.midi\n",
      "Converting midi file from 2014, with index 210, and file name MIDI-UNPROCESSED_09-10_R1_2014_MID--AUDIO_09_R1_2014_wav--1.midi\n",
      "Converting midi file from 2013, with index 211, and file name ORIG-MIDI_01_7_7_13_Group__MID--AUDIO_12_R1_2013_wav--2.midi\n",
      "Converting midi file from 2013, with index 212, and file name ORIG-MIDI_01_7_7_13_Group__MID--AUDIO_12_R1_2013_wav--3.midi\n",
      "Converting midi file from 2009, with index 213, and file name MIDI-Unprocessed_05_R1_2009_01-02_ORIG_MID--AUDIO_05_R1_2009_05_R1_2009_01_WAV.midi\n",
      "Converting midi file from 2011, with index 214, and file name MIDI-Unprocessed_07_R1_2011_MID--AUDIO_R1-D3_04_Track04_wav.midi\n",
      "Converting midi file from 2006, with index 215, and file name MIDI-Unprocessed_16_R1_2006_01-04_ORIG_MID--AUDIO_16_R1_2006_01_Track01_wav.midi\n",
      "Converting midi file from 2006, with index 216, and file name MIDI-Unprocessed_06_R1_2006_01-04_ORIG_MID--AUDIO_06_R1_2006_01_Track01_wav.midi\n",
      "Converting midi file from 2015, with index 217, and file name MIDI-Unprocessed_R1_D1-9-12_mid--AUDIO-from_mp3_11_R1_2015_wav--1.midi\n",
      "Converting midi file from 2015, with index 218, and file name MIDI-Unprocessed_R1_D1-9-12_mid--AUDIO-from_mp3_12_R1_2015_wav--2.midi\n",
      "Converting midi file from 2013, with index 219, and file name ORIG-MIDI_03_7_6_13_Group__MID--AUDIO_09_R1_2013_wav--3.midi\n",
      "Converting midi file from 2004, with index 220, and file name MIDI-Unprocessed_XP_14_R1_2004_04_ORIG_MID--AUDIO_14_R1_2004_04_Track04_wav.midi\n",
      "Converting midi file from 2004, with index 221, and file name MIDI-Unprocessed_XP_14_R1_2004_04_ORIG_MID--AUDIO_14_R1_2004_05_Track05_wav.midi\n",
      "Converting midi file from 2004, with index 222, and file name MIDI-Unprocessed_XP_14_R1_2004_04_ORIG_MID--AUDIO_14_R1_2004_06_Track06_wav.midi\n",
      "Converting midi file from 2004, with index 223, and file name MIDI-Unprocessed_SMF_12_01_2004_01-05_ORIG_MID--AUDIO_12_R1_2004_03_Track03_wav--1.midi\n",
      "Converting midi file from 2018, with index 224, and file name MIDI-Unprocessed_Recital17-19_MID--AUDIO_17_R1_2018_wav--3.midi\n",
      "Converting midi file from 2004, with index 225, and file name MIDI-Unprocessed_XP_04_R1_2004_01-02_ORIG_MID--AUDIO_04_R1_2004_02_Track02_wav.midi\n"
     ]
    }
   ],
   "source": [
    "# for idx, midi_file in enumerate(midi_file_names[1050:]):\n",
    "\n",
    "#     midi_data = data_path + midi_file\n",
    "#     print(f\"Converting midi file from {midi_file.split('/')[0]}, with index {idx}, and file name {midi_file.split('/')[1]}\")\n",
    "\n",
    "#     pretty_midi_data = pretty_midi.PrettyMIDI(midi_data)\n",
    "#     pretty_midi_piano_roll = pretty_midi_data.get_piano_roll()\n",
    "#     idx_to_cqt[idx] = pretty_midi_piano_roll\n",
    "\n",
    "#     with open('/home/hice1/sgoel83/scratch/midi_pickle/maestro-midi-5.pickle', 'wb+' if idx == 0 else 'ab+') as handle:\n",
    "#         pickle.dump({idx: pretty_midi_piano_roll}, handle, protocol=pickle.HIGHEST_PROTOCOL)"
   ]
  },
  {
   "cell_type": "code",
   "execution_count": 7,
   "metadata": {},
   "outputs": [
    {
     "data": {
      "text/plain": [
       "dict_keys([0, 1, 2, 3, 4, 5, 6, 7, 8, 9, 10, 11, 12, 13, 14, 15, 16, 17, 18, 19, 20, 21, 22, 23, 24, 25, 26, 27, 28, 29, 30, 31, 32, 33, 34, 35, 36, 37, 38, 39, 40, 41, 42, 43, 44, 45, 46, 47, 48, 49, 50, 51, 52, 53, 54, 55, 56, 57, 58, 59, 60, 61, 62, 63, 64, 65, 66, 67, 68, 69, 70, 71, 72, 73, 74, 75, 76, 77, 78, 79, 80, 81, 82, 83, 84, 85, 86, 87, 88, 89, 90, 91, 92, 93, 94, 95, 96, 97, 98, 99, 100, 101, 102, 103, 104, 105, 106, 107, 108, 109, 110, 111, 112, 113, 114, 115, 116, 117, 118, 119, 120, 121, 122, 123, 124, 125, 126, 127, 128, 129, 130, 131, 132, 133, 134, 135, 136, 137, 138, 139, 140, 141, 142, 143, 144, 145, 146, 147, 148, 149, 150, 151, 152, 153, 154, 155, 156, 157, 158, 159, 160, 161, 162, 163, 164, 165, 166, 167, 168, 169, 170, 171, 172, 173, 174, 175, 176, 177, 178, 179, 180, 181, 182, 183, 184, 185, 186, 187, 188, 189, 190, 191, 192, 193, 194, 195, 196, 197, 198, 199, 200, 201, 202, 203, 204, 205, 206, 207, 208, 209, 210, 211, 212, 213, 214, 215, 216, 217, 218, 219, 220, 221, 222, 223, 224, 225])"
      ]
     },
     "execution_count": 7,
     "metadata": {},
     "output_type": "execute_result"
    }
   ],
   "source": [
    "idx_to_cqt.keys()"
   ]
  },
  {
   "cell_type": "code",
   "execution_count": 2,
   "metadata": {},
   "outputs": [],
   "source": [
    "# NEEDS TO BE A SEPARATE UTILS CODE OR SOMETHING. This reads and combines the full pickle file into 1 dictionary.\n",
    "import pickle\n",
    "final_dict = {}\n",
    "with open('/home/hice1/sgoel83/scratch/midi_pickle/midi_all.pickle', 'rb') as f:\n",
    "    while True:\n",
    "        try:\n",
    "            data = pickle.load(f)\n",
    "            # final_dict = {**final_dict, **data}\n",
    "        except EOFError:\n",
    "            break"
   ]
  },
  {
   "cell_type": "code",
   "execution_count": 7,
   "metadata": {},
   "outputs": [
    {
     "name": "stdout",
     "output_type": "stream",
     "text": [
      "dict_keys([1200, 1201, 1202, 1203, 1204, 1205, 1206, 1207, 1208, 1209, 1210, 1211, 1212, 1213, 1214, 1215, 1216, 1217, 1218, 1219, 1220, 1221, 1222, 1223, 1224, 1225, 1226, 1227, 1228, 1229, 1230, 1231, 1232, 1233, 1234, 1235, 1236, 1237, 1238, 1239, 1240, 1241, 1242, 1243, 1244, 1245, 1246, 1247, 1248, 1249, 1250, 1251, 1252, 1253, 1254, 1255, 1256, 1257, 1258, 1259, 1260, 1261, 1262, 1263, 1264, 1265, 1266, 1267, 1268, 1269, 1270, 1271, 1272, 1273, 1274, 1275])\n"
     ]
    }
   ],
   "source": [
    "print(data.keys())"
   ]
  },
  {
   "cell_type": "code",
   "execution_count": 6,
   "metadata": {},
   "outputs": [],
   "source": [
    "# File breaks: start, 260, 500, 760, 1050, end"
   ]
  },
  {
   "cell_type": "code",
   "execution_count": 3,
   "metadata": {},
   "outputs": [
    {
     "ename": "",
     "evalue": "",
     "output_type": "error",
     "traceback": [
      "\u001b[1;31mCanceled future for execute_request message before replies were done"
     ]
    },
    {
     "ename": "",
     "evalue": "",
     "output_type": "error",
     "traceback": [
      "\u001b[1;31mThe Kernel crashed while executing code in the the current cell or a previous cell. Please review the code in the cell(s) to identify a possible cause of the failure. Click <a href='https://aka.ms/vscodeJupyterKernelCrash'>here</a> for more info. View Jupyter <a href='command:jupyter.viewOutput'>log</a> for further details."
     ]
    }
   ],
   "source": [
    "# import pickle\n",
    "# file_names = ['/home/hice1/sgoel83/scratch/midi_pickle/maestro-midi-1.pickle', '/home/hice1/sgoel83/scratch/midi_pickle/maestro-midi-2.pickle', '/home/hice1/sgoel83/scratch/midi_pickle/maestro-midi-3.pickle', '/home/hice1/sgoel83/scratch/midi_pickle/maestro-midi-4.pickle', '/home/hice1/sgoel83/scratch/midi_pickle/maestro-midi-5.pickle']\n",
    "\n",
    "# final_dict = {}\n",
    "# for fn in file_names:\n",
    "#     combined_data = {}\n",
    "\n",
    "#     if '-2' in fn:\n",
    "#         offset = 260\n",
    "#     elif '-3' in fn:\n",
    "#         offset = 500\n",
    "#     elif '-4' in fn:\n",
    "#         offset = 760\n",
    "#     elif '-5' in fn:\n",
    "#         offset = 1050\n",
    "#     else:\n",
    "#         offset = 0\n",
    "\n",
    "#     with open(fn, 'rb') as f:\n",
    "#         unpickler = pickle.Unpickler(f)\n",
    "        \n",
    "#         while True:\n",
    "#             try:\n",
    "#                 item = unpickler.load()  # Load the next object in the file\n",
    "#                 combined_data[list(item.keys())[0] + offset] = list(item.values())[0]\n",
    "#             except EOFError:\n",
    "#                 break\n",
    "\n",
    "#     final_dict = {**final_dict, **combined_data}\n",
    "\n",
    "# print(len(final_dict))\n",
    "\n",
    "# chunk_size = 100  # Set a chunk size\n",
    "# output_file = '/home/hice1/sgoel83/scratch/midi_pickle/midi_all.pickle'\n",
    "\n",
    "# with open(output_file, 'wb') as f:\n",
    "#     for i in range(0, len(final_dict), chunk_size):\n",
    "#         try:\n",
    "#             chunk = dict(list(final_dict.items())[i:i+chunk_size])\n",
    "#             pickle.dump(chunk, f)\n",
    "#             print(i)\n",
    "#         except OSError as e:\n",
    "#             print(f\"Error on chunk {i / 100}: {e}\")\n",
    "#             break\n",
    "\n",
    "# print(\"Done! :)\")"
   ]
  },
  {
   "attachments": {},
   "cell_type": "markdown",
   "metadata": {},
   "source": [
    "# For 2018 extraction only"
   ]
  },
  {
   "cell_type": "code",
   "execution_count": 3,
   "metadata": {},
   "outputs": [
    {
     "name": "stdout",
     "output_type": "stream",
     "text": [
      "[(0, '2018/MIDI-Unprocessed_Chamber3_MID--AUDIO_10_R3_2018_wav--1.midi'), (18, '2018/MIDI-Unprocessed_Recital1-3_MID--AUDIO_01_R1_2018_wav--4.midi'), (19, '2018/MIDI-Unprocessed_Recital17-19_MID--AUDIO_18_R1_2018_wav--2.midi'), (21, '2018/MIDI-Unprocessed_Recital5-7_MID--AUDIO_07_R1_2018_wav--2.midi'), (22, '2018/MIDI-Unprocessed_Recital9-11_MID--AUDIO_11_R1_2018_wav--2.midi'), (23, '2018/MIDI-Unprocessed_Chamber6_MID--AUDIO_20_R3_2018_wav--2.midi'), (26, '2018/MIDI-Unprocessed_Recital12_MID--AUDIO_12_R1_2018_wav--2.midi'), (35, '2018/MIDI-Unprocessed_Recital13-15_MID--AUDIO_15_R1_2018_wav--1.midi'), (61, '2018/MIDI-Unprocessed_Recital20_MID--AUDIO_20_R1_2018_wav--3.midi'), (69, '2018/MIDI-Unprocessed_Recital1-3_MID--AUDIO_02_R1_2018_wav--4.midi'), (74, '2018/MIDI-Unprocessed_Recital16_MID--AUDIO_16_R1_2018_wav--3.midi'), (75, '2018/MIDI-Unprocessed_Recital9-11_MID--AUDIO_10_R1_2018_wav--3.midi'), (87, '2018/MIDI-Unprocessed_Recital8_MID--AUDIO_08_R1_2018_wav--2.midi'), (88, '2018/MIDI-Unprocessed_Recital9-11_MID--AUDIO_10_R1_2018_wav--5.midi'), (89, '2018/MIDI-Unprocessed_Recital1-3_MID--AUDIO_01_R1_2018_wav--2.midi'), (97, '2018/MIDI-Unprocessed_Recital5-7_MID--AUDIO_07_R1_2018_wav--3.midi'), (110, '2018/MIDI-Unprocessed_Recital17-19_MID--AUDIO_18_R1_2018_wav--3.midi'), (112, '2018/MIDI-Unprocessed_Recital9-11_MID--AUDIO_09_R1_2018_wav--6.midi'), (114, '2018/MIDI-Unprocessed_Recital9-11_MID--AUDIO_09_R1_2018_wav--5.midi'), (187, '2018/MIDI-Unprocessed_Recital1-3_MID--AUDIO_01_R1_2018_wav--3.midi'), (223, '2018/MIDI-Unprocessed_Recital1-3_MID--AUDIO_02_R1_2018_wav--2.midi'), (234, '2018/MIDI-Unprocessed_Recital4_MID--AUDIO_04_R1_2018_wav--5.midi'), (255, '2018/MIDI-Unprocessed_Recital17-19_MID--AUDIO_19_R1_2018_wav--3.midi'), (257, '2018/MIDI-Unprocessed_Recital9-11_MID--AUDIO_09_R1_2018_wav--4.midi'), (280, '2018/MIDI-Unprocessed_Recital17-19_MID--AUDIO_19_R1_2018_wav--4.midi'), (317, '2018/MIDI-Unprocessed_Recital9-11_MID--AUDIO_11_R1_2018_wav--1.midi'), (347, '2018/MIDI-Unprocessed_Recital12_MID--AUDIO_12_R1_2018_wav--3.midi'), (377, '2018/MIDI-Unprocessed_Schubert1-3_MID--AUDIO_07_R2_2018_wav.midi'), (392, '2018/MIDI-Unprocessed_Recital9-11_MID--AUDIO_09_R1_2018_wav--1.midi'), (393, '2018/MIDI-Unprocessed_Schubert1-3_MID--AUDIO_02_R2_2018_wav.midi'), (413, '2018/MIDI-Unprocessed_Schubert4-6_MID--AUDIO_09_R2_2018_wav.midi'), (414, '2018/MIDI-Unprocessed_Schubert4-6_MID--AUDIO_10_R2_2018_wav.midi'), (443, '2018/MIDI-Unprocessed_Schubert1-3_MID--AUDIO_05_R2_2018_wav.midi'), (444, '2018/MIDI-Unprocessed_Schubert4-6_MID--AUDIO_08_R2_2018_wav.midi'), (445, '2018/MIDI-Unprocessed_Schubert7-9_MID--AUDIO_11_R2_2018_wav.midi'), (446, '2018/MIDI-Unprocessed_Schubert7-9_MID--AUDIO_16_R2_2018_wav.midi'), (453, '2018/MIDI-Unprocessed_Schubert10-12_MID--AUDIO_20_R2_2018_wav.midi'), (454, '2018/MIDI-Unprocessed_Schubert7-9_MID--AUDIO_15_R2_2018_wav.midi'), (455, '2018/MIDI-Unprocessed_Schubert10-12_MID--AUDIO_17_R2_2018_wav.midi'), (456, '2018/MIDI-Unprocessed_Schubert10-12_MID--AUDIO_18_R2_2018_wav.midi'), (476, '2018/MIDI-Unprocessed_Recital9-11_MID--AUDIO_09_R1_2018_wav--3.midi'), (479, '2018/MIDI-Unprocessed_Recital9-11_MID--AUDIO_09_R1_2018_wav--2.midi'), (672, '2018/MIDI-Unprocessed_Recital5-7_MID--AUDIO_06_R1_2018_wav--3.midi'), (678, '2018/MIDI-Unprocessed_Recital13-15_MID--AUDIO_13_R1_2018_wav--3.midi'), (679, '2018/MIDI-Unprocessed_Chamber5_MID--AUDIO_18_R3_2018_wav--1.midi'), (691, '2018/MIDI-Unprocessed_Recital1-3_MID--AUDIO_01_R1_2018_wav--1.midi'), (711, '2018/MIDI-Unprocessed_Recital17-19_MID--AUDIO_19_R1_2018_wav--1.midi'), (717, '2018/MIDI-Unprocessed_Recital5-7_MID--AUDIO_06_R1_2018_wav--1.midi'), (724, '2018/MIDI-Unprocessed_Recital13-15_MID--AUDIO_14_R1_2018_wav--1.midi'), (729, '2018/MIDI-Unprocessed_Chamber4_MID--AUDIO_11_R3_2018_wav--1.midi'), (778, '2018/MIDI-Unprocessed_Recital4_MID--AUDIO_04_R1_2018_wav--1.midi'), (782, '2018/MIDI-Unprocessed_Recital17-19_MID--AUDIO_17_R1_2018_wav--1.midi'), (852, '2018/MIDI-Unprocessed_Recital8_MID--AUDIO_08_R1_2018_wav--3.midi'), (873, '2018/MIDI-Unprocessed_Chamber3_MID--AUDIO_10_R3_2018_wav--2.midi'), (888, '2018/MIDI-Unprocessed_Recital5-7_MID--AUDIO_05_R1_2018_wav--2.midi'), (920, '2018/MIDI-Unprocessed_Recital8_MID--AUDIO_08_R1_2018_wav--1.midi'), (931, '2018/MIDI-Unprocessed_Recital5-7_MID--AUDIO_07_R1_2018_wav--1.midi'), (934, '2018/MIDI-Unprocessed_Recital9-11_MID--AUDIO_10_R1_2018_wav--1.midi'), (936, '2018/MIDI-Unprocessed_Recital13-15_MID--AUDIO_14_R1_2018_wav--4.midi'), (939, '2018/MIDI-Unprocessed_Chamber6_MID--AUDIO_20_R3_2018_wav--1.midi'), (945, '2018/MIDI-Unprocessed_Recital13-15_MID--AUDIO_14_R1_2018_wav--3.midi'), (972, '2018/MIDI-Unprocessed_Recital17-19_MID--AUDIO_18_R1_2018_wav--1.midi'), (1003, '2018/MIDI-Unprocessed_Recital4_MID--AUDIO_04_R1_2018_wav--3.midi'), (1009, '2018/MIDI-Unprocessed_Recital1-3_MID--AUDIO_02_R1_2018_wav--1.midi'), (1014, '2018/MIDI-Unprocessed_Recital13-15_MID--AUDIO_14_R1_2018_wav--2.midi'), (1015, '2018/MIDI-Unprocessed_Recital17-19_MID--AUDIO_19_R1_2018_wav--2.midi'), (1017, '2018/MIDI-Unprocessed_Recital9-11_MID--AUDIO_10_R1_2018_wav--2.midi'), (1022, '2018/MIDI-Unprocessed_Recital13-15_MID--AUDIO_15_R1_2018_wav--3.midi'), (1031, '2018/MIDI-Unprocessed_Recital1-3_MID--AUDIO_03_R1_2018_wav--1.midi'), (1051, '2018/MIDI-Unprocessed_Recital5-7_MID--AUDIO_06_R1_2018_wav--2.midi'), (1054, '2018/MIDI-Unprocessed_Recital5-7_MID--AUDIO_05_R1_2018_wav--1.midi'), (1094, '2018/MIDI-Unprocessed_Recital5-7_MID--AUDIO_07_R1_2018_wav--4.midi'), (1095, '2018/MIDI-Unprocessed_Recital8_MID--AUDIO_08_R1_2018_wav--4.midi'), (1106, '2018/MIDI-Unprocessed_Recital16_MID--AUDIO_16_R1_2018_wav--2.midi'), (1109, '2018/MIDI-Unprocessed_Recital13-15_MID--AUDIO_15_R1_2018_wav--2.midi'), (1110, '2018/MIDI-Unprocessed_Recital1-3_MID--AUDIO_02_R1_2018_wav--3.midi'), (1138, '2018/MIDI-Unprocessed_Recital13-15_MID--AUDIO_15_R1_2018_wav--4.midi'), (1141, '2018/MIDI-Unprocessed_Recital9-11_MID--AUDIO_11_R1_2018_wav--5.midi'), (1142, '2018/MIDI-Unprocessed_Recital17-19_MID--AUDIO_17_R1_2018_wav--4.midi'), (1144, '2018/MIDI-Unprocessed_Recital1-3_MID--AUDIO_03_R1_2018_wav--2.midi'), (1159, '2018/MIDI-Unprocessed_Recital4_MID--AUDIO_04_R1_2018_wav--4.midi'), (1165, '2018/MIDI-Unprocessed_Recital13-15_MID--AUDIO_13_R1_2018_wav--2.midi'), (1166, '2018/MIDI-Unprocessed_Recital20_MID--AUDIO_20_R1_2018_wav--4.midi'), (1181, '2018/MIDI-Unprocessed_Recital17-19_MID--AUDIO_17_R1_2018_wav--2.midi'), (1194, '2018/MIDI-Unprocessed_Recital5-7_MID--AUDIO_05_R1_2018_wav--3.midi'), (1199, '2018/MIDI-Unprocessed_Recital1-3_MID--AUDIO_03_R1_2018_wav--4.midi'), (1200, '2018/MIDI-Unprocessed_Recital1-3_MID--AUDIO_03_R1_2018_wav--5.midi'), (1216, '2018/MIDI-Unprocessed_Recital17-19_MID--AUDIO_19_R1_2018_wav--5.midi'), (1224, '2018/MIDI-Unprocessed_Recital17-19_MID--AUDIO_19_R1_2018_wav--6.midi'), (1240, '2018/MIDI-Unprocessed_Chamber2_MID--AUDIO_09_R3_2018_wav--1.midi'), (1253, '2018/MIDI-Unprocessed_Recital13-15_MID--AUDIO_13_R1_2018_wav--1.midi'), (1255, '2018/MIDI-Unprocessed_Recital12_MID--AUDIO_12_R1_2018_wav--1.midi'), (1274, '2018/MIDI-Unprocessed_Recital17-19_MID--AUDIO_17_R1_2018_wav--3.midi')]\n",
      "93\n"
     ]
    }
   ],
   "source": [
    "midi2018_file_names = []\n",
    "csv_maestro_midi = pd.read_csv(data_path+'maestro-v3.0.0.csv')\n",
    "for idx, midi_file_a in enumerate(csv_maestro_midi['midi_filename']):\n",
    "    if midi_file_a[:4] == '2018':\n",
    "        midi2018_file_names.append((idx, midi_file_a))\n",
    "print(midi2018_file_names)\n",
    "print(len(midi2018_file_names))"
   ]
  },
  {
   "cell_type": "code",
   "execution_count": 4,
   "metadata": {},
   "outputs": [],
   "source": [
    "idx_to_midi = {}"
   ]
  },
  {
   "cell_type": "code",
   "execution_count": 5,
   "metadata": {},
   "outputs": [
    {
     "name": "stdout",
     "output_type": "stream",
     "text": [
      "Converting midi file from 2018, with index 0, and file name MIDI-Unprocessed_Chamber3_MID--AUDIO_10_R3_2018_wav--1.midi\n",
      "Converting midi file from 2018, with index 18, and file name MIDI-Unprocessed_Recital1-3_MID--AUDIO_01_R1_2018_wav--4.midi\n",
      "Converting midi file from 2018, with index 19, and file name MIDI-Unprocessed_Recital17-19_MID--AUDIO_18_R1_2018_wav--2.midi\n",
      "Converting midi file from 2018, with index 21, and file name MIDI-Unprocessed_Recital5-7_MID--AUDIO_07_R1_2018_wav--2.midi\n",
      "Converting midi file from 2018, with index 22, and file name MIDI-Unprocessed_Recital9-11_MID--AUDIO_11_R1_2018_wav--2.midi\n",
      "Converting midi file from 2018, with index 23, and file name MIDI-Unprocessed_Chamber6_MID--AUDIO_20_R3_2018_wav--2.midi\n",
      "Converting midi file from 2018, with index 26, and file name MIDI-Unprocessed_Recital12_MID--AUDIO_12_R1_2018_wav--2.midi\n",
      "Converting midi file from 2018, with index 35, and file name MIDI-Unprocessed_Recital13-15_MID--AUDIO_15_R1_2018_wav--1.midi\n",
      "Converting midi file from 2018, with index 61, and file name MIDI-Unprocessed_Recital20_MID--AUDIO_20_R1_2018_wav--3.midi\n",
      "Converting midi file from 2018, with index 69, and file name MIDI-Unprocessed_Recital1-3_MID--AUDIO_02_R1_2018_wav--4.midi\n",
      "Converting midi file from 2018, with index 74, and file name MIDI-Unprocessed_Recital16_MID--AUDIO_16_R1_2018_wav--3.midi\n",
      "Converting midi file from 2018, with index 75, and file name MIDI-Unprocessed_Recital9-11_MID--AUDIO_10_R1_2018_wav--3.midi\n",
      "Converting midi file from 2018, with index 87, and file name MIDI-Unprocessed_Recital8_MID--AUDIO_08_R1_2018_wav--2.midi\n",
      "Converting midi file from 2018, with index 88, and file name MIDI-Unprocessed_Recital9-11_MID--AUDIO_10_R1_2018_wav--5.midi\n",
      "Converting midi file from 2018, with index 89, and file name MIDI-Unprocessed_Recital1-3_MID--AUDIO_01_R1_2018_wav--2.midi\n",
      "Converting midi file from 2018, with index 97, and file name MIDI-Unprocessed_Recital5-7_MID--AUDIO_07_R1_2018_wav--3.midi\n",
      "Converting midi file from 2018, with index 110, and file name MIDI-Unprocessed_Recital17-19_MID--AUDIO_18_R1_2018_wav--3.midi\n",
      "Converting midi file from 2018, with index 112, and file name MIDI-Unprocessed_Recital9-11_MID--AUDIO_09_R1_2018_wav--6.midi\n",
      "Converting midi file from 2018, with index 114, and file name MIDI-Unprocessed_Recital9-11_MID--AUDIO_09_R1_2018_wav--5.midi\n",
      "Converting midi file from 2018, with index 187, and file name MIDI-Unprocessed_Recital1-3_MID--AUDIO_01_R1_2018_wav--3.midi\n",
      "Converting midi file from 2018, with index 223, and file name MIDI-Unprocessed_Recital1-3_MID--AUDIO_02_R1_2018_wav--2.midi\n",
      "Converting midi file from 2018, with index 234, and file name MIDI-Unprocessed_Recital4_MID--AUDIO_04_R1_2018_wav--5.midi\n",
      "Converting midi file from 2018, with index 255, and file name MIDI-Unprocessed_Recital17-19_MID--AUDIO_19_R1_2018_wav--3.midi\n",
      "Converting midi file from 2018, with index 257, and file name MIDI-Unprocessed_Recital9-11_MID--AUDIO_09_R1_2018_wav--4.midi\n",
      "Converting midi file from 2018, with index 280, and file name MIDI-Unprocessed_Recital17-19_MID--AUDIO_19_R1_2018_wav--4.midi\n",
      "Converting midi file from 2018, with index 317, and file name MIDI-Unprocessed_Recital9-11_MID--AUDIO_11_R1_2018_wav--1.midi\n",
      "Converting midi file from 2018, with index 347, and file name MIDI-Unprocessed_Recital12_MID--AUDIO_12_R1_2018_wav--3.midi\n",
      "Converting midi file from 2018, with index 377, and file name MIDI-Unprocessed_Schubert1-3_MID--AUDIO_07_R2_2018_wav.midi\n",
      "Converting midi file from 2018, with index 392, and file name MIDI-Unprocessed_Recital9-11_MID--AUDIO_09_R1_2018_wav--1.midi\n",
      "Converting midi file from 2018, with index 393, and file name MIDI-Unprocessed_Schubert1-3_MID--AUDIO_02_R2_2018_wav.midi\n",
      "Converting midi file from 2018, with index 413, and file name MIDI-Unprocessed_Schubert4-6_MID--AUDIO_09_R2_2018_wav.midi\n",
      "Converting midi file from 2018, with index 414, and file name MIDI-Unprocessed_Schubert4-6_MID--AUDIO_10_R2_2018_wav.midi\n",
      "Converting midi file from 2018, with index 443, and file name MIDI-Unprocessed_Schubert1-3_MID--AUDIO_05_R2_2018_wav.midi\n",
      "Converting midi file from 2018, with index 444, and file name MIDI-Unprocessed_Schubert4-6_MID--AUDIO_08_R2_2018_wav.midi\n",
      "Converting midi file from 2018, with index 445, and file name MIDI-Unprocessed_Schubert7-9_MID--AUDIO_11_R2_2018_wav.midi\n",
      "Converting midi file from 2018, with index 446, and file name MIDI-Unprocessed_Schubert7-9_MID--AUDIO_16_R2_2018_wav.midi\n",
      "Converting midi file from 2018, with index 453, and file name MIDI-Unprocessed_Schubert10-12_MID--AUDIO_20_R2_2018_wav.midi\n",
      "Converting midi file from 2018, with index 454, and file name MIDI-Unprocessed_Schubert7-9_MID--AUDIO_15_R2_2018_wav.midi\n",
      "Converting midi file from 2018, with index 455, and file name MIDI-Unprocessed_Schubert10-12_MID--AUDIO_17_R2_2018_wav.midi\n",
      "Converting midi file from 2018, with index 456, and file name MIDI-Unprocessed_Schubert10-12_MID--AUDIO_18_R2_2018_wav.midi\n",
      "Converting midi file from 2018, with index 476, and file name MIDI-Unprocessed_Recital9-11_MID--AUDIO_09_R1_2018_wav--3.midi\n",
      "Converting midi file from 2018, with index 479, and file name MIDI-Unprocessed_Recital9-11_MID--AUDIO_09_R1_2018_wav--2.midi\n",
      "Converting midi file from 2018, with index 672, and file name MIDI-Unprocessed_Recital5-7_MID--AUDIO_06_R1_2018_wav--3.midi\n",
      "Converting midi file from 2018, with index 678, and file name MIDI-Unprocessed_Recital13-15_MID--AUDIO_13_R1_2018_wav--3.midi\n",
      "Converting midi file from 2018, with index 679, and file name MIDI-Unprocessed_Chamber5_MID--AUDIO_18_R3_2018_wav--1.midi\n",
      "Converting midi file from 2018, with index 691, and file name MIDI-Unprocessed_Recital1-3_MID--AUDIO_01_R1_2018_wav--1.midi\n",
      "Converting midi file from 2018, with index 711, and file name MIDI-Unprocessed_Recital17-19_MID--AUDIO_19_R1_2018_wav--1.midi\n",
      "Converting midi file from 2018, with index 717, and file name MIDI-Unprocessed_Recital5-7_MID--AUDIO_06_R1_2018_wav--1.midi\n",
      "Converting midi file from 2018, with index 724, and file name MIDI-Unprocessed_Recital13-15_MID--AUDIO_14_R1_2018_wav--1.midi\n",
      "Converting midi file from 2018, with index 729, and file name MIDI-Unprocessed_Chamber4_MID--AUDIO_11_R3_2018_wav--1.midi\n",
      "Converting midi file from 2018, with index 778, and file name MIDI-Unprocessed_Recital4_MID--AUDIO_04_R1_2018_wav--1.midi\n",
      "Converting midi file from 2018, with index 782, and file name MIDI-Unprocessed_Recital17-19_MID--AUDIO_17_R1_2018_wav--1.midi\n",
      "Converting midi file from 2018, with index 852, and file name MIDI-Unprocessed_Recital8_MID--AUDIO_08_R1_2018_wav--3.midi\n",
      "Converting midi file from 2018, with index 873, and file name MIDI-Unprocessed_Chamber3_MID--AUDIO_10_R3_2018_wav--2.midi\n",
      "Converting midi file from 2018, with index 888, and file name MIDI-Unprocessed_Recital5-7_MID--AUDIO_05_R1_2018_wav--2.midi\n",
      "Converting midi file from 2018, with index 920, and file name MIDI-Unprocessed_Recital8_MID--AUDIO_08_R1_2018_wav--1.midi\n",
      "Converting midi file from 2018, with index 931, and file name MIDI-Unprocessed_Recital5-7_MID--AUDIO_07_R1_2018_wav--1.midi\n",
      "Converting midi file from 2018, with index 934, and file name MIDI-Unprocessed_Recital9-11_MID--AUDIO_10_R1_2018_wav--1.midi\n",
      "Converting midi file from 2018, with index 936, and file name MIDI-Unprocessed_Recital13-15_MID--AUDIO_14_R1_2018_wav--4.midi\n",
      "Converting midi file from 2018, with index 939, and file name MIDI-Unprocessed_Chamber6_MID--AUDIO_20_R3_2018_wav--1.midi\n",
      "Converting midi file from 2018, with index 945, and file name MIDI-Unprocessed_Recital13-15_MID--AUDIO_14_R1_2018_wav--3.midi\n",
      "Converting midi file from 2018, with index 972, and file name MIDI-Unprocessed_Recital17-19_MID--AUDIO_18_R1_2018_wav--1.midi\n",
      "Converting midi file from 2018, with index 1003, and file name MIDI-Unprocessed_Recital4_MID--AUDIO_04_R1_2018_wav--3.midi\n",
      "Converting midi file from 2018, with index 1009, and file name MIDI-Unprocessed_Recital1-3_MID--AUDIO_02_R1_2018_wav--1.midi\n",
      "Converting midi file from 2018, with index 1014, and file name MIDI-Unprocessed_Recital13-15_MID--AUDIO_14_R1_2018_wav--2.midi\n",
      "Converting midi file from 2018, with index 1015, and file name MIDI-Unprocessed_Recital17-19_MID--AUDIO_19_R1_2018_wav--2.midi\n",
      "Converting midi file from 2018, with index 1017, and file name MIDI-Unprocessed_Recital9-11_MID--AUDIO_10_R1_2018_wav--2.midi\n",
      "Converting midi file from 2018, with index 1022, and file name MIDI-Unprocessed_Recital13-15_MID--AUDIO_15_R1_2018_wav--3.midi\n",
      "Converting midi file from 2018, with index 1031, and file name MIDI-Unprocessed_Recital1-3_MID--AUDIO_03_R1_2018_wav--1.midi\n",
      "Converting midi file from 2018, with index 1051, and file name MIDI-Unprocessed_Recital5-7_MID--AUDIO_06_R1_2018_wav--2.midi\n",
      "Converting midi file from 2018, with index 1054, and file name MIDI-Unprocessed_Recital5-7_MID--AUDIO_05_R1_2018_wav--1.midi\n",
      "Converting midi file from 2018, with index 1094, and file name MIDI-Unprocessed_Recital5-7_MID--AUDIO_07_R1_2018_wav--4.midi\n",
      "Converting midi file from 2018, with index 1095, and file name MIDI-Unprocessed_Recital8_MID--AUDIO_08_R1_2018_wav--4.midi\n",
      "Converting midi file from 2018, with index 1106, and file name MIDI-Unprocessed_Recital16_MID--AUDIO_16_R1_2018_wav--2.midi\n",
      "Converting midi file from 2018, with index 1109, and file name MIDI-Unprocessed_Recital13-15_MID--AUDIO_15_R1_2018_wav--2.midi\n",
      "Converting midi file from 2018, with index 1110, and file name MIDI-Unprocessed_Recital1-3_MID--AUDIO_02_R1_2018_wav--3.midi\n",
      "Converting midi file from 2018, with index 1138, and file name MIDI-Unprocessed_Recital13-15_MID--AUDIO_15_R1_2018_wav--4.midi\n",
      "Converting midi file from 2018, with index 1141, and file name MIDI-Unprocessed_Recital9-11_MID--AUDIO_11_R1_2018_wav--5.midi\n",
      "Converting midi file from 2018, with index 1142, and file name MIDI-Unprocessed_Recital17-19_MID--AUDIO_17_R1_2018_wav--4.midi\n",
      "Converting midi file from 2018, with index 1144, and file name MIDI-Unprocessed_Recital1-3_MID--AUDIO_03_R1_2018_wav--2.midi\n",
      "Converting midi file from 2018, with index 1159, and file name MIDI-Unprocessed_Recital4_MID--AUDIO_04_R1_2018_wav--4.midi\n",
      "Converting midi file from 2018, with index 1165, and file name MIDI-Unprocessed_Recital13-15_MID--AUDIO_13_R1_2018_wav--2.midi\n",
      "Converting midi file from 2018, with index 1166, and file name MIDI-Unprocessed_Recital20_MID--AUDIO_20_R1_2018_wav--4.midi\n",
      "Converting midi file from 2018, with index 1181, and file name MIDI-Unprocessed_Recital17-19_MID--AUDIO_17_R1_2018_wav--2.midi\n",
      "Converting midi file from 2018, with index 1194, and file name MIDI-Unprocessed_Recital5-7_MID--AUDIO_05_R1_2018_wav--3.midi\n",
      "Converting midi file from 2018, with index 1199, and file name MIDI-Unprocessed_Recital1-3_MID--AUDIO_03_R1_2018_wav--4.midi\n",
      "Converting midi file from 2018, with index 1200, and file name MIDI-Unprocessed_Recital1-3_MID--AUDIO_03_R1_2018_wav--5.midi\n",
      "Converting midi file from 2018, with index 1216, and file name MIDI-Unprocessed_Recital17-19_MID--AUDIO_19_R1_2018_wav--5.midi\n",
      "Converting midi file from 2018, with index 1224, and file name MIDI-Unprocessed_Recital17-19_MID--AUDIO_19_R1_2018_wav--6.midi\n",
      "Converting midi file from 2018, with index 1240, and file name MIDI-Unprocessed_Chamber2_MID--AUDIO_09_R3_2018_wav--1.midi\n",
      "Converting midi file from 2018, with index 1253, and file name MIDI-Unprocessed_Recital13-15_MID--AUDIO_13_R1_2018_wav--1.midi\n",
      "Converting midi file from 2018, with index 1255, and file name MIDI-Unprocessed_Recital12_MID--AUDIO_12_R1_2018_wav--1.midi\n",
      "Converting midi file from 2018, with index 1274, and file name MIDI-Unprocessed_Recital17-19_MID--AUDIO_17_R1_2018_wav--3.midi\n"
     ]
    }
   ],
   "source": [
    "for (idx, midi_file) in midi2018_file_names:\n",
    "\n",
    "    midi_data = data_path + midi_file\n",
    "    print(f\"Converting midi file from {midi_file.split('/')[0]}, with index {idx}, and file name {midi_file.split('/')[1]}\")\n",
    "\n",
    "    pretty_midi_data = pretty_midi.PrettyMIDI(midi_data)\n",
    "    pretty_midi_piano_roll = pretty_midi_data.get_piano_roll()\n",
    "    idx_to_midi[idx] = pretty_midi_piano_roll\n",
    "\n",
    "    with open('/home/hice1/sgoel83/scratch/midi_pickle/midi2018.pickle', 'wb+' if idx == 0 else 'ab+') as handle:\n",
    "        pickle.dump({idx: pretty_midi_piano_roll}, handle, protocol=pickle.HIGHEST_PROTOCOL)"
   ]
  },
  {
   "cell_type": "code",
   "execution_count": 7,
   "metadata": {},
   "outputs": [
    {
     "name": "stdout",
     "output_type": "stream",
     "text": [
      "dict_keys([0, 18, 19, 21, 22, 23, 26, 35, 61, 69, 74, 75, 87, 88, 89, 97, 110, 112, 114, 187, 223, 234, 255, 257, 280, 317, 347, 377, 392, 393, 413, 414, 443, 444, 445, 446, 453, 454, 455, 456, 476, 479, 672, 678, 679, 691, 711, 717, 724, 729, 778, 782, 852, 873, 888, 920, 931, 934, 936, 939, 945, 972, 1003, 1009, 1014, 1015, 1017, 1022, 1031, 1051, 1054, 1094, 1095, 1106, 1109, 1110, 1138, 1141, 1142, 1144, 1159, 1165, 1166, 1181, 1194, 1199, 1200, 1216, 1224, 1240, 1253, 1255, 1274])\n",
      "93\n"
     ]
    }
   ],
   "source": [
    "print(idx_to_midi.keys())\n",
    "print(len(idx_to_midi.keys()))"
   ]
  },
  {
   "cell_type": "code",
   "execution_count": 1,
   "metadata": {},
   "outputs": [],
   "source": [
    "# # pip install this\n",
    "# import gdown\n",
    "\n",
    "# url = \"https://drive.google.com/file/d/14G5c5tvwTjlcXE6Bk1LlIjzMtBp8fkPf\"\n",
    "# output = \"<path/to/file/file-name>.pickle\"\n",
    "# gdown.download(url, output)"
   ]
  },
  {
   "cell_type": "code",
   "execution_count": 4,
   "metadata": {},
   "outputs": [],
   "source": [
    "# NEEDS TO BE A SEPARATE UTILS CODE OR SOMETHING. This reads and combines the full pickle file into 1 dictionary.\n",
    "import pickle\n",
    "final_dict = {}\n",
    "with open('/home/hice1/sgoel83/scratch/midi_pickle/midi2018.pickle', 'rb') as f:\n",
    "    while True:\n",
    "        try:\n",
    "            data = pickle.load(f)\n",
    "            final_dict = {**final_dict, **data}\n",
    "        except EOFError:\n",
    "            break"
   ]
  },
  {
   "cell_type": "code",
   "execution_count": 5,
   "metadata": {},
   "outputs": [
    {
     "name": "stdout",
     "output_type": "stream",
     "text": [
      "93\n",
      "dict_keys([0, 18, 19, 21, 22, 23, 26, 35, 61, 69, 74, 75, 87, 88, 89, 97, 110, 112, 114, 187, 223, 234, 255, 257, 280, 317, 347, 377, 392, 393, 413, 414, 443, 444, 445, 446, 453, 454, 455, 456, 476, 479, 672, 678, 679, 691, 711, 717, 724, 729, 778, 782, 852, 873, 888, 920, 931, 934, 936, 939, 945, 972, 1003, 1009, 1014, 1015, 1017, 1022, 1031, 1051, 1054, 1094, 1095, 1106, 1109, 1110, 1138, 1141, 1142, 1144, 1159, 1165, 1166, 1181, 1194, 1199, 1200, 1216, 1224, 1240, 1253, 1255, 1274])\n"
     ]
    }
   ],
   "source": [
    "print(len(final_dict.keys()))\n",
    "print(final_dict.keys())"
   ]
  }
 ],
 "metadata": {
  "kernelspec": {
   "display_name": ".venv",
   "language": "python",
   "name": "python3"
  },
  "language_info": {
   "codemirror_mode": {
    "name": "ipython",
    "version": 3
   },
   "file_extension": ".py",
   "mimetype": "text/x-python",
   "name": "python",
   "nbconvert_exporter": "python",
   "pygments_lexer": "ipython3",
   "version": "3.10.13"
  },
  "orig_nbformat": 4
 },
 "nbformat": 4,
 "nbformat_minor": 2
}
