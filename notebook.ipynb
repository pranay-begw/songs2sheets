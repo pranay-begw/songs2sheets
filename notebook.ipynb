{
 "cells": [
  {
   "cell_type": "code",
   "execution_count": 3,
   "metadata": {},
   "outputs": [],
   "source": [
    "import pandas as pd\n",
    "import torch\n",
    "import torch.nn.functional as F\n",
    "import numpy as np\n",
    "import random\n",
    "import sklearn.metrics as metrics\n",
    "import json\n",
    "import pretty_midi\n",
    "import librosa\n",
    "\n",
    "# import transformers and matplotlib in the cell when you call them, not globally"
   ]
  },
  {
   "cell_type": "code",
   "execution_count": 5,
   "metadata": {},
   "outputs": [],
   "source": [
    "json_path = '/home/hice1/sgoel83/scratch/Maestro/maestro-v3.0.0/maestro-v3.0.0.json'\n",
    "data_path = '/home/hice1/sgoel83/scratch/Maestro/maestro-v3.0.0/'"
   ]
  },
  {
   "cell_type": "code",
   "execution_count": 6,
   "metadata": {},
   "outputs": [],
   "source": [
    "def load_train_data(json_path):\n",
    "    with open(json_path, 'r') as file:\n",
    "        train_data = json.load(file)\n",
    "    return train_data\n",
    "\n",
    "# train_data = load_train_data(json_path)ces once pickle file is complete \n",
    "# indices_2018 = [index for index, year in train_data.items() if year == 2018]"
   ]
  },
  {
   "attachments": {},
   "cell_type": "markdown",
   "metadata": {},
   "source": [
    "# Audio 2018 extraction "
   ]
  },
  {
   "cell_type": "code",
   "execution_count": 15,
   "metadata": {},
   "outputs": [
    {
     "name": "stdout",
     "output_type": "stream",
     "text": [
      "[(0, '2018/MIDI-Unprocessed_Chamber3_MID--AUDIO_10_R3_2018_wav--1.wav'), (18, '2018/MIDI-Unprocessed_Recital1-3_MID--AUDIO_01_R1_2018_wav--4.wav'), (19, '2018/MIDI-Unprocessed_Recital17-19_MID--AUDIO_18_R1_2018_wav--2.wav'), (21, '2018/MIDI-Unprocessed_Recital5-7_MID--AUDIO_07_R1_2018_wav--2.wav'), (22, '2018/MIDI-Unprocessed_Recital9-11_MID--AUDIO_11_R1_2018_wav--2.wav'), (23, '2018/MIDI-Unprocessed_Chamber6_MID--AUDIO_20_R3_2018_wav--2.wav'), (26, '2018/MIDI-Unprocessed_Recital12_MID--AUDIO_12_R1_2018_wav--2.wav'), (35, '2018/MIDI-Unprocessed_Recital13-15_MID--AUDIO_15_R1_2018_wav--1.wav'), (61, '2018/MIDI-Unprocessed_Recital20_MID--AUDIO_20_R1_2018_wav--3.wav'), (69, '2018/MIDI-Unprocessed_Recital1-3_MID--AUDIO_02_R1_2018_wav--4.wav'), (74, '2018/MIDI-Unprocessed_Recital16_MID--AUDIO_16_R1_2018_wav--3.wav'), (75, '2018/MIDI-Unprocessed_Recital9-11_MID--AUDIO_10_R1_2018_wav--3.wav'), (87, '2018/MIDI-Unprocessed_Recital8_MID--AUDIO_08_R1_2018_wav--2.wav'), (88, '2018/MIDI-Unprocessed_Recital9-11_MID--AUDIO_10_R1_2018_wav--5.wav'), (89, '2018/MIDI-Unprocessed_Recital1-3_MID--AUDIO_01_R1_2018_wav--2.wav'), (97, '2018/MIDI-Unprocessed_Recital5-7_MID--AUDIO_07_R1_2018_wav--3.wav'), (110, '2018/MIDI-Unprocessed_Recital17-19_MID--AUDIO_18_R1_2018_wav--3.wav'), (112, '2018/MIDI-Unprocessed_Recital9-11_MID--AUDIO_09_R1_2018_wav--6.wav'), (114, '2018/MIDI-Unprocessed_Recital9-11_MID--AUDIO_09_R1_2018_wav--5.wav'), (187, '2018/MIDI-Unprocessed_Recital1-3_MID--AUDIO_01_R1_2018_wav--3.wav'), (223, '2018/MIDI-Unprocessed_Recital1-3_MID--AUDIO_02_R1_2018_wav--2.wav'), (234, '2018/MIDI-Unprocessed_Recital4_MID--AUDIO_04_R1_2018_wav--5.wav'), (255, '2018/MIDI-Unprocessed_Recital17-19_MID--AUDIO_19_R1_2018_wav--3.wav'), (257, '2018/MIDI-Unprocessed_Recital9-11_MID--AUDIO_09_R1_2018_wav--4.wav'), (280, '2018/MIDI-Unprocessed_Recital17-19_MID--AUDIO_19_R1_2018_wav--4.wav'), (317, '2018/MIDI-Unprocessed_Recital9-11_MID--AUDIO_11_R1_2018_wav--1.wav'), (347, '2018/MIDI-Unprocessed_Recital12_MID--AUDIO_12_R1_2018_wav--3.wav'), (377, '2018/MIDI-Unprocessed_Schubert1-3_MID--AUDIO_07_R2_2018_wav.wav'), (392, '2018/MIDI-Unprocessed_Recital9-11_MID--AUDIO_09_R1_2018_wav--1.wav'), (393, '2018/MIDI-Unprocessed_Schubert1-3_MID--AUDIO_02_R2_2018_wav.wav'), (413, '2018/MIDI-Unprocessed_Schubert4-6_MID--AUDIO_09_R2_2018_wav.wav'), (414, '2018/MIDI-Unprocessed_Schubert4-6_MID--AUDIO_10_R2_2018_wav.wav'), (443, '2018/MIDI-Unprocessed_Schubert1-3_MID--AUDIO_05_R2_2018_wav.wav'), (444, '2018/MIDI-Unprocessed_Schubert4-6_MID--AUDIO_08_R2_2018_wav.wav'), (445, '2018/MIDI-Unprocessed_Schubert7-9_MID--AUDIO_11_R2_2018_wav.wav'), (446, '2018/MIDI-Unprocessed_Schubert7-9_MID--AUDIO_16_R2_2018_wav.wav'), (453, '2018/MIDI-Unprocessed_Schubert10-12_MID--AUDIO_20_R2_2018_wav.wav'), (454, '2018/MIDI-Unprocessed_Schubert7-9_MID--AUDIO_15_R2_2018_wav.wav'), (455, '2018/MIDI-Unprocessed_Schubert10-12_MID--AUDIO_17_R2_2018_wav.wav'), (456, '2018/MIDI-Unprocessed_Schubert10-12_MID--AUDIO_18_R2_2018_wav.wav'), (476, '2018/MIDI-Unprocessed_Recital9-11_MID--AUDIO_09_R1_2018_wav--3.wav'), (479, '2018/MIDI-Unprocessed_Recital9-11_MID--AUDIO_09_R1_2018_wav--2.wav'), (672, '2018/MIDI-Unprocessed_Recital5-7_MID--AUDIO_06_R1_2018_wav--3.wav'), (678, '2018/MIDI-Unprocessed_Recital13-15_MID--AUDIO_13_R1_2018_wav--3.wav'), (679, '2018/MIDI-Unprocessed_Chamber5_MID--AUDIO_18_R3_2018_wav--1.wav'), (691, '2018/MIDI-Unprocessed_Recital1-3_MID--AUDIO_01_R1_2018_wav--1.wav'), (711, '2018/MIDI-Unprocessed_Recital17-19_MID--AUDIO_19_R1_2018_wav--1.wav'), (717, '2018/MIDI-Unprocessed_Recital5-7_MID--AUDIO_06_R1_2018_wav--1.wav'), (724, '2018/MIDI-Unprocessed_Recital13-15_MID--AUDIO_14_R1_2018_wav--1.wav'), (729, '2018/MIDI-Unprocessed_Chamber4_MID--AUDIO_11_R3_2018_wav--1.wav'), (778, '2018/MIDI-Unprocessed_Recital4_MID--AUDIO_04_R1_2018_wav--1.wav'), (782, '2018/MIDI-Unprocessed_Recital17-19_MID--AUDIO_17_R1_2018_wav--1.wav'), (852, '2018/MIDI-Unprocessed_Recital8_MID--AUDIO_08_R1_2018_wav--3.wav'), (873, '2018/MIDI-Unprocessed_Chamber3_MID--AUDIO_10_R3_2018_wav--2.wav'), (888, '2018/MIDI-Unprocessed_Recital5-7_MID--AUDIO_05_R1_2018_wav--2.wav'), (920, '2018/MIDI-Unprocessed_Recital8_MID--AUDIO_08_R1_2018_wav--1.wav'), (931, '2018/MIDI-Unprocessed_Recital5-7_MID--AUDIO_07_R1_2018_wav--1.wav'), (934, '2018/MIDI-Unprocessed_Recital9-11_MID--AUDIO_10_R1_2018_wav--1.wav'), (936, '2018/MIDI-Unprocessed_Recital13-15_MID--AUDIO_14_R1_2018_wav--4.wav'), (939, '2018/MIDI-Unprocessed_Chamber6_MID--AUDIO_20_R3_2018_wav--1.wav'), (945, '2018/MIDI-Unprocessed_Recital13-15_MID--AUDIO_14_R1_2018_wav--3.wav'), (972, '2018/MIDI-Unprocessed_Recital17-19_MID--AUDIO_18_R1_2018_wav--1.wav'), (1003, '2018/MIDI-Unprocessed_Recital4_MID--AUDIO_04_R1_2018_wav--3.wav'), (1009, '2018/MIDI-Unprocessed_Recital1-3_MID--AUDIO_02_R1_2018_wav--1.wav'), (1014, '2018/MIDI-Unprocessed_Recital13-15_MID--AUDIO_14_R1_2018_wav--2.wav'), (1015, '2018/MIDI-Unprocessed_Recital17-19_MID--AUDIO_19_R1_2018_wav--2.wav'), (1017, '2018/MIDI-Unprocessed_Recital9-11_MID--AUDIO_10_R1_2018_wav--2.wav'), (1022, '2018/MIDI-Unprocessed_Recital13-15_MID--AUDIO_15_R1_2018_wav--3.wav'), (1031, '2018/MIDI-Unprocessed_Recital1-3_MID--AUDIO_03_R1_2018_wav--1.wav'), (1051, '2018/MIDI-Unprocessed_Recital5-7_MID--AUDIO_06_R1_2018_wav--2.wav'), (1054, '2018/MIDI-Unprocessed_Recital5-7_MID--AUDIO_05_R1_2018_wav--1.wav'), (1094, '2018/MIDI-Unprocessed_Recital5-7_MID--AUDIO_07_R1_2018_wav--4.wav'), (1095, '2018/MIDI-Unprocessed_Recital8_MID--AUDIO_08_R1_2018_wav--4.wav'), (1106, '2018/MIDI-Unprocessed_Recital16_MID--AUDIO_16_R1_2018_wav--2.wav'), (1109, '2018/MIDI-Unprocessed_Recital13-15_MID--AUDIO_15_R1_2018_wav--2.wav'), (1110, '2018/MIDI-Unprocessed_Recital1-3_MID--AUDIO_02_R1_2018_wav--3.wav'), (1138, '2018/MIDI-Unprocessed_Recital13-15_MID--AUDIO_15_R1_2018_wav--4.wav'), (1141, '2018/MIDI-Unprocessed_Recital9-11_MID--AUDIO_11_R1_2018_wav--5.wav'), (1142, '2018/MIDI-Unprocessed_Recital17-19_MID--AUDIO_17_R1_2018_wav--4.wav'), (1144, '2018/MIDI-Unprocessed_Recital1-3_MID--AUDIO_03_R1_2018_wav--2.wav'), (1159, '2018/MIDI-Unprocessed_Recital4_MID--AUDIO_04_R1_2018_wav--4.wav'), (1165, '2018/MIDI-Unprocessed_Recital13-15_MID--AUDIO_13_R1_2018_wav--2.wav'), (1166, '2018/MIDI-Unprocessed_Recital20_MID--AUDIO_20_R1_2018_wav--4.wav'), (1181, '2018/MIDI-Unprocessed_Recital17-19_MID--AUDIO_17_R1_2018_wav--2.wav'), (1194, '2018/MIDI-Unprocessed_Recital5-7_MID--AUDIO_05_R1_2018_wav--3.wav'), (1199, '2018/MIDI-Unprocessed_Recital1-3_MID--AUDIO_03_R1_2018_wav--4.wav'), (1200, '2018/MIDI-Unprocessed_Recital1-3_MID--AUDIO_03_R1_2018_wav--5.wav'), (1216, '2018/MIDI-Unprocessed_Recital17-19_MID--AUDIO_19_R1_2018_wav--5.wav'), (1224, '2018/MIDI-Unprocessed_Recital17-19_MID--AUDIO_19_R1_2018_wav--6.wav'), (1240, '2018/MIDI-Unprocessed_Chamber2_MID--AUDIO_09_R3_2018_wav--1.wav'), (1253, '2018/MIDI-Unprocessed_Recital13-15_MID--AUDIO_13_R1_2018_wav--1.wav'), (1255, '2018/MIDI-Unprocessed_Recital12_MID--AUDIO_12_R1_2018_wav--1.wav'), (1274, '2018/MIDI-Unprocessed_Recital17-19_MID--AUDIO_17_R1_2018_wav--3.wav')]\n",
      "93\n"
     ]
    }
   ],
   "source": [
    "audio2018_file_names = []\n",
    "csv_maestro_wav = pd.read_csv(data_path+'maestro-v3.0.0.csv')\n",
    "for idx, audio_file_a in enumerate(csv_maestro_wav['audio_filename']):\n",
    "    if audio_file_a[:4] == '2018':\n",
    "        audio2018_file_names.append((idx, audio_file_a))\n",
    "print(audio2018_file_names)\n",
    "print(len(audio2018_file_names))"
   ]
  },
  {
   "cell_type": "code",
   "execution_count": 22,
   "metadata": {},
   "outputs": [],
   "source": [
    "idx_to_cqt = {}"
   ]
  },
  {
   "cell_type": "code",
   "execution_count": 23,
   "metadata": {},
   "outputs": [
    {
     "name": "stdout",
     "output_type": "stream",
     "text": [
      "Converting audio file from 2018, with index 0, and file name MIDI-Unprocessed_Chamber3_MID--AUDIO_10_R3_2018_wav--1.wav\n",
      "Converting audio file from 2018, with index 18, and file name MIDI-Unprocessed_Recital1-3_MID--AUDIO_01_R1_2018_wav--4.wav\n",
      "Converting audio file from 2018, with index 19, and file name MIDI-Unprocessed_Recital17-19_MID--AUDIO_18_R1_2018_wav--2.wav\n",
      "Converting audio file from 2018, with index 21, and file name MIDI-Unprocessed_Recital5-7_MID--AUDIO_07_R1_2018_wav--2.wav\n",
      "Converting audio file from 2018, with index 22, and file name MIDI-Unprocessed_Recital9-11_MID--AUDIO_11_R1_2018_wav--2.wav\n",
      "Converting audio file from 2018, with index 23, and file name MIDI-Unprocessed_Chamber6_MID--AUDIO_20_R3_2018_wav--2.wav\n",
      "Converting audio file from 2018, with index 26, and file name MIDI-Unprocessed_Recital12_MID--AUDIO_12_R1_2018_wav--2.wav\n",
      "Converting audio file from 2018, with index 35, and file name MIDI-Unprocessed_Recital13-15_MID--AUDIO_15_R1_2018_wav--1.wav\n",
      "Converting audio file from 2018, with index 61, and file name MIDI-Unprocessed_Recital20_MID--AUDIO_20_R1_2018_wav--3.wav\n",
      "Converting audio file from 2018, with index 69, and file name MIDI-Unprocessed_Recital1-3_MID--AUDIO_02_R1_2018_wav--4.wav\n",
      "Converting audio file from 2018, with index 74, and file name MIDI-Unprocessed_Recital16_MID--AUDIO_16_R1_2018_wav--3.wav\n",
      "Converting audio file from 2018, with index 75, and file name MIDI-Unprocessed_Recital9-11_MID--AUDIO_10_R1_2018_wav--3.wav\n",
      "Converting audio file from 2018, with index 87, and file name MIDI-Unprocessed_Recital8_MID--AUDIO_08_R1_2018_wav--2.wav\n",
      "Converting audio file from 2018, with index 88, and file name MIDI-Unprocessed_Recital9-11_MID--AUDIO_10_R1_2018_wav--5.wav\n",
      "Converting audio file from 2018, with index 89, and file name MIDI-Unprocessed_Recital1-3_MID--AUDIO_01_R1_2018_wav--2.wav\n",
      "Converting audio file from 2018, with index 97, and file name MIDI-Unprocessed_Recital5-7_MID--AUDIO_07_R1_2018_wav--3.wav\n",
      "Converting audio file from 2018, with index 110, and file name MIDI-Unprocessed_Recital17-19_MID--AUDIO_18_R1_2018_wav--3.wav\n",
      "Converting audio file from 2018, with index 112, and file name MIDI-Unprocessed_Recital9-11_MID--AUDIO_09_R1_2018_wav--6.wav\n",
      "Converting audio file from 2018, with index 114, and file name MIDI-Unprocessed_Recital9-11_MID--AUDIO_09_R1_2018_wav--5.wav\n",
      "Converting audio file from 2018, with index 187, and file name MIDI-Unprocessed_Recital1-3_MID--AUDIO_01_R1_2018_wav--3.wav\n",
      "Converting audio file from 2018, with index 223, and file name MIDI-Unprocessed_Recital1-3_MID--AUDIO_02_R1_2018_wav--2.wav\n",
      "Converting audio file from 2018, with index 234, and file name MIDI-Unprocessed_Recital4_MID--AUDIO_04_R1_2018_wav--5.wav\n",
      "Converting audio file from 2018, with index 255, and file name MIDI-Unprocessed_Recital17-19_MID--AUDIO_19_R1_2018_wav--3.wav\n",
      "Converting audio file from 2018, with index 257, and file name MIDI-Unprocessed_Recital9-11_MID--AUDIO_09_R1_2018_wav--4.wav\n",
      "Converting audio file from 2018, with index 280, and file name MIDI-Unprocessed_Recital17-19_MID--AUDIO_19_R1_2018_wav--4.wav\n",
      "Converting audio file from 2018, with index 317, and file name MIDI-Unprocessed_Recital9-11_MID--AUDIO_11_R1_2018_wav--1.wav\n",
      "Converting audio file from 2018, with index 347, and file name MIDI-Unprocessed_Recital12_MID--AUDIO_12_R1_2018_wav--3.wav\n",
      "Converting audio file from 2018, with index 377, and file name MIDI-Unprocessed_Schubert1-3_MID--AUDIO_07_R2_2018_wav.wav\n",
      "Converting audio file from 2018, with index 392, and file name MIDI-Unprocessed_Recital9-11_MID--AUDIO_09_R1_2018_wav--1.wav\n",
      "Converting audio file from 2018, with index 393, and file name MIDI-Unprocessed_Schubert1-3_MID--AUDIO_02_R2_2018_wav.wav\n",
      "Converting audio file from 2018, with index 413, and file name MIDI-Unprocessed_Schubert4-6_MID--AUDIO_09_R2_2018_wav.wav\n",
      "Converting audio file from 2018, with index 414, and file name MIDI-Unprocessed_Schubert4-6_MID--AUDIO_10_R2_2018_wav.wav\n",
      "Converting audio file from 2018, with index 443, and file name MIDI-Unprocessed_Schubert1-3_MID--AUDIO_05_R2_2018_wav.wav\n",
      "Converting audio file from 2018, with index 444, and file name MIDI-Unprocessed_Schubert4-6_MID--AUDIO_08_R2_2018_wav.wav\n",
      "Converting audio file from 2018, with index 445, and file name MIDI-Unprocessed_Schubert7-9_MID--AUDIO_11_R2_2018_wav.wav\n",
      "Converting audio file from 2018, with index 446, and file name MIDI-Unprocessed_Schubert7-9_MID--AUDIO_16_R2_2018_wav.wav\n",
      "Converting audio file from 2018, with index 453, and file name MIDI-Unprocessed_Schubert10-12_MID--AUDIO_20_R2_2018_wav.wav\n",
      "Converting audio file from 2018, with index 454, and file name MIDI-Unprocessed_Schubert7-9_MID--AUDIO_15_R2_2018_wav.wav\n",
      "Converting audio file from 2018, with index 455, and file name MIDI-Unprocessed_Schubert10-12_MID--AUDIO_17_R2_2018_wav.wav\n",
      "Converting audio file from 2018, with index 456, and file name MIDI-Unprocessed_Schubert10-12_MID--AUDIO_18_R2_2018_wav.wav\n",
      "Converting audio file from 2018, with index 476, and file name MIDI-Unprocessed_Recital9-11_MID--AUDIO_09_R1_2018_wav--3.wav\n",
      "Converting audio file from 2018, with index 479, and file name MIDI-Unprocessed_Recital9-11_MID--AUDIO_09_R1_2018_wav--2.wav\n",
      "Converting audio file from 2018, with index 672, and file name MIDI-Unprocessed_Recital5-7_MID--AUDIO_06_R1_2018_wav--3.wav\n",
      "Converting audio file from 2018, with index 678, and file name MIDI-Unprocessed_Recital13-15_MID--AUDIO_13_R1_2018_wav--3.wav\n",
      "Converting audio file from 2018, with index 679, and file name MIDI-Unprocessed_Chamber5_MID--AUDIO_18_R3_2018_wav--1.wav\n",
      "Converting audio file from 2018, with index 691, and file name MIDI-Unprocessed_Recital1-3_MID--AUDIO_01_R1_2018_wav--1.wav\n",
      "Converting audio file from 2018, with index 711, and file name MIDI-Unprocessed_Recital17-19_MID--AUDIO_19_R1_2018_wav--1.wav\n",
      "Converting audio file from 2018, with index 717, and file name MIDI-Unprocessed_Recital5-7_MID--AUDIO_06_R1_2018_wav--1.wav\n",
      "Converting audio file from 2018, with index 724, and file name MIDI-Unprocessed_Recital13-15_MID--AUDIO_14_R1_2018_wav--1.wav\n",
      "Converting audio file from 2018, with index 729, and file name MIDI-Unprocessed_Chamber4_MID--AUDIO_11_R3_2018_wav--1.wav\n",
      "Converting audio file from 2018, with index 778, and file name MIDI-Unprocessed_Recital4_MID--AUDIO_04_R1_2018_wav--1.wav\n",
      "Converting audio file from 2018, with index 782, and file name MIDI-Unprocessed_Recital17-19_MID--AUDIO_17_R1_2018_wav--1.wav\n",
      "Converting audio file from 2018, with index 852, and file name MIDI-Unprocessed_Recital8_MID--AUDIO_08_R1_2018_wav--3.wav\n",
      "Converting audio file from 2018, with index 873, and file name MIDI-Unprocessed_Chamber3_MID--AUDIO_10_R3_2018_wav--2.wav\n",
      "Converting audio file from 2018, with index 888, and file name MIDI-Unprocessed_Recital5-7_MID--AUDIO_05_R1_2018_wav--2.wav\n",
      "Converting audio file from 2018, with index 920, and file name MIDI-Unprocessed_Recital8_MID--AUDIO_08_R1_2018_wav--1.wav\n",
      "Converting audio file from 2018, with index 931, and file name MIDI-Unprocessed_Recital5-7_MID--AUDIO_07_R1_2018_wav--1.wav\n",
      "Converting audio file from 2018, with index 934, and file name MIDI-Unprocessed_Recital9-11_MID--AUDIO_10_R1_2018_wav--1.wav\n",
      "Converting audio file from 2018, with index 936, and file name MIDI-Unprocessed_Recital13-15_MID--AUDIO_14_R1_2018_wav--4.wav\n",
      "Converting audio file from 2018, with index 939, and file name MIDI-Unprocessed_Chamber6_MID--AUDIO_20_R3_2018_wav--1.wav\n",
      "Converting audio file from 2018, with index 945, and file name MIDI-Unprocessed_Recital13-15_MID--AUDIO_14_R1_2018_wav--3.wav\n",
      "Converting audio file from 2018, with index 972, and file name MIDI-Unprocessed_Recital17-19_MID--AUDIO_18_R1_2018_wav--1.wav\n",
      "Converting audio file from 2018, with index 1003, and file name MIDI-Unprocessed_Recital4_MID--AUDIO_04_R1_2018_wav--3.wav\n",
      "Converting audio file from 2018, with index 1009, and file name MIDI-Unprocessed_Recital1-3_MID--AUDIO_02_R1_2018_wav--1.wav\n",
      "Converting audio file from 2018, with index 1014, and file name MIDI-Unprocessed_Recital13-15_MID--AUDIO_14_R1_2018_wav--2.wav\n",
      "Converting audio file from 2018, with index 1015, and file name MIDI-Unprocessed_Recital17-19_MID--AUDIO_19_R1_2018_wav--2.wav\n",
      "Converting audio file from 2018, with index 1017, and file name MIDI-Unprocessed_Recital9-11_MID--AUDIO_10_R1_2018_wav--2.wav\n",
      "Converting audio file from 2018, with index 1022, and file name MIDI-Unprocessed_Recital13-15_MID--AUDIO_15_R1_2018_wav--3.wav\n",
      "Converting audio file from 2018, with index 1031, and file name MIDI-Unprocessed_Recital1-3_MID--AUDIO_03_R1_2018_wav--1.wav\n",
      "Converting audio file from 2018, with index 1051, and file name MIDI-Unprocessed_Recital5-7_MID--AUDIO_06_R1_2018_wav--2.wav\n",
      "Converting audio file from 2018, with index 1054, and file name MIDI-Unprocessed_Recital5-7_MID--AUDIO_05_R1_2018_wav--1.wav\n",
      "Converting audio file from 2018, with index 1094, and file name MIDI-Unprocessed_Recital5-7_MID--AUDIO_07_R1_2018_wav--4.wav\n",
      "Converting audio file from 2018, with index 1095, and file name MIDI-Unprocessed_Recital8_MID--AUDIO_08_R1_2018_wav--4.wav\n",
      "Converting audio file from 2018, with index 1106, and file name MIDI-Unprocessed_Recital16_MID--AUDIO_16_R1_2018_wav--2.wav\n",
      "Converting audio file from 2018, with index 1109, and file name MIDI-Unprocessed_Recital13-15_MID--AUDIO_15_R1_2018_wav--2.wav\n",
      "Converting audio file from 2018, with index 1110, and file name MIDI-Unprocessed_Recital1-3_MID--AUDIO_02_R1_2018_wav--3.wav\n",
      "Converting audio file from 2018, with index 1138, and file name MIDI-Unprocessed_Recital13-15_MID--AUDIO_15_R1_2018_wav--4.wav\n",
      "Converting audio file from 2018, with index 1141, and file name MIDI-Unprocessed_Recital9-11_MID--AUDIO_11_R1_2018_wav--5.wav\n",
      "Converting audio file from 2018, with index 1142, and file name MIDI-Unprocessed_Recital17-19_MID--AUDIO_17_R1_2018_wav--4.wav\n",
      "Converting audio file from 2018, with index 1144, and file name MIDI-Unprocessed_Recital1-3_MID--AUDIO_03_R1_2018_wav--2.wav\n",
      "Converting audio file from 2018, with index 1159, and file name MIDI-Unprocessed_Recital4_MID--AUDIO_04_R1_2018_wav--4.wav\n",
      "Converting audio file from 2018, with index 1165, and file name MIDI-Unprocessed_Recital13-15_MID--AUDIO_13_R1_2018_wav--2.wav\n",
      "Converting audio file from 2018, with index 1166, and file name MIDI-Unprocessed_Recital20_MID--AUDIO_20_R1_2018_wav--4.wav\n",
      "Converting audio file from 2018, with index 1181, and file name MIDI-Unprocessed_Recital17-19_MID--AUDIO_17_R1_2018_wav--2.wav\n",
      "Converting audio file from 2018, with index 1194, and file name MIDI-Unprocessed_Recital5-7_MID--AUDIO_05_R1_2018_wav--3.wav\n",
      "Converting audio file from 2018, with index 1199, and file name MIDI-Unprocessed_Recital1-3_MID--AUDIO_03_R1_2018_wav--4.wav\n",
      "Converting audio file from 2018, with index 1200, and file name MIDI-Unprocessed_Recital1-3_MID--AUDIO_03_R1_2018_wav--5.wav\n",
      "Converting audio file from 2018, with index 1216, and file name MIDI-Unprocessed_Recital17-19_MID--AUDIO_19_R1_2018_wav--5.wav\n",
      "Converting audio file from 2018, with index 1224, and file name MIDI-Unprocessed_Recital17-19_MID--AUDIO_19_R1_2018_wav--6.wav\n",
      "Converting audio file from 2018, with index 1240, and file name MIDI-Unprocessed_Chamber2_MID--AUDIO_09_R3_2018_wav--1.wav\n",
      "Converting audio file from 2018, with index 1253, and file name MIDI-Unprocessed_Recital13-15_MID--AUDIO_13_R1_2018_wav--1.wav\n",
      "Converting audio file from 2018, with index 1255, and file name MIDI-Unprocessed_Recital12_MID--AUDIO_12_R1_2018_wav--1.wav\n",
      "Converting audio file from 2018, with index 1274, and file name MIDI-Unprocessed_Recital17-19_MID--AUDIO_17_R1_2018_wav--3.wav\n"
     ]
    }
   ],
   "source": [
    "for (idx, audio_file_name) in audio2018_file_names:\n",
    "\n",
    "    audio_data = data_path + audio_file_name\n",
    "    print(f\"Converting audio file from {audio_file_name.split('/')[0]}, with index {idx}, and file name {audio_file_name.split('/')[1]}\")\n",
    "    x , sr = librosa.load(audio_data)\n",
    "\n",
    "    librosa.load(audio_data, sr=44100)\n",
    "\n",
    "    X = librosa.cqt(x)\n",
    "    Xdb = librosa.amplitude_to_db(abs(X))\n",
    "    idx_to_cqt[idx] = Xdb\n",
    "\n",
    "    with open('/home/hice1/sgoel83/scratch/wav_pickle/cqt2018.pickle', 'wb+' if idx == 0 else 'ab+') as handle:\n",
    "        pickle.dump({idx: Xdb}, handle, protocol=pickle.HIGHEST_PROTOCOL)"
   ]
  },
  {
   "cell_type": "code",
   "execution_count": 25,
   "metadata": {},
   "outputs": [
    {
     "name": "stdout",
     "output_type": "stream",
     "text": [
      "dict_keys([0, 18, 19, 21, 22, 23, 26, 35, 61, 69, 74, 75, 87, 88, 89, 97, 110, 112, 114, 187, 223, 234, 255, 257, 280, 317, 347, 377, 392, 393, 413, 414, 443, 444, 445, 446, 453, 454, 455, 456, 476, 479, 672, 678, 679, 691, 711, 717, 724, 729, 778, 782, 852, 873, 888, 920, 931, 934, 936, 939, 945, 972, 1003, 1009, 1014, 1015, 1017, 1022, 1031, 1051, 1054, 1094, 1095, 1106, 1109, 1110, 1138, 1141, 1142, 1144, 1159, 1165, 1166, 1181, 1194, 1199, 1200, 1216, 1224, 1240, 1253, 1255, 1274])\n",
      "93\n"
     ]
    }
   ],
   "source": [
    "print(idx_to_cqt.keys())\n",
    "print(len(idx_to_cqt.keys()))"
   ]
  },
  {
   "cell_type": "code",
   "execution_count": 32,
   "metadata": {},
   "outputs": [],
   "source": [
    "# # pip install this\n",
    "# import gdown\n",
    "\n",
    "# url = \"https://drive.google.com/uc?id=1nxAI7CWnVug1gzj6vj8PUbvHVsIK0Y1Q\"\n",
    "# output = \"<path/to/file/file-name>.pickle\"\n",
    "# gdown.download(url, output)"
   ]
  },
  {
   "attachments": {},
   "cell_type": "markdown",
   "metadata": {},
   "source": [
    "# MIDI2018 and CQT2018 final dicts"
   ]
  },
  {
   "cell_type": "code",
   "execution_count": 33,
   "metadata": {},
   "outputs": [],
   "source": [
    "# MIDI Pickle file\n",
    "\n",
    "import pickle\n",
    "midi_final_dict = {}\n",
    "with open('/home/hice1/sgoel83/scratch/midi_pickle/midi2018.pickle', 'rb') as f:\n",
    "    while True:\n",
    "        try:\n",
    "            data = pickle.load(f)\n",
    "            midi_final_dict = {**midi_final_dict, **data}\n",
    "        except EOFError:\n",
    "            break"
   ]
  },
  {
   "cell_type": "code",
   "execution_count": 34,
   "metadata": {},
   "outputs": [
    {
     "name": "stdout",
     "output_type": "stream",
     "text": [
      "93\n",
      "dict_keys([0, 18, 19, 21, 22, 23, 26, 35, 61, 69, 74, 75, 87, 88, 89, 97, 110, 112, 114, 187, 223, 234, 255, 257, 280, 317, 347, 377, 392, 393, 413, 414, 443, 444, 445, 446, 453, 454, 455, 456, 476, 479, 672, 678, 679, 691, 711, 717, 724, 729, 778, 782, 852, 873, 888, 920, 931, 934, 936, 939, 945, 972, 1003, 1009, 1014, 1015, 1017, 1022, 1031, 1051, 1054, 1094, 1095, 1106, 1109, 1110, 1138, 1141, 1142, 1144, 1159, 1165, 1166, 1181, 1194, 1199, 1200, 1216, 1224, 1240, 1253, 1255, 1274])\n"
     ]
    }
   ],
   "source": [
    "print(len(midi_final_dict.keys()))\n",
    "print(midi_final_dict.keys())"
   ]
  },
  {
   "cell_type": "code",
   "execution_count": 35,
   "metadata": {},
   "outputs": [],
   "source": [
    "# CQT WAV Pickle file\n",
    "\n",
    "import pickle\n",
    "cqt_final_dict = {}\n",
    "with open('/home/hice1/sgoel83/scratch/wav_pickle/cqt2018.pickle', 'rb') as f:\n",
    "    while True:\n",
    "        try:\n",
    "            cqt_data = pickle.load(f)\n",
    "            cqt_final_dict = {**cqt_final_dict, **cqt_data}\n",
    "        except EOFError:\n",
    "            break"
   ]
  },
  {
   "cell_type": "code",
   "execution_count": 36,
   "metadata": {},
   "outputs": [
    {
     "name": "stdout",
     "output_type": "stream",
     "text": [
      "93\n",
      "dict_keys([0, 18, 19, 21, 22, 23, 26, 35, 61, 69, 74, 75, 87, 88, 89, 97, 110, 112, 114, 187, 223, 234, 255, 257, 280, 317, 347, 377, 392, 393, 413, 414, 443, 444, 445, 446, 453, 454, 455, 456, 476, 479, 672, 678, 679, 691, 711, 717, 724, 729, 778, 782, 852, 873, 888, 920, 931, 934, 936, 939, 945, 972, 1003, 1009, 1014, 1015, 1017, 1022, 1031, 1051, 1054, 1094, 1095, 1106, 1109, 1110, 1138, 1141, 1142, 1144, 1159, 1165, 1166, 1181, 1194, 1199, 1200, 1216, 1224, 1240, 1253, 1255, 1274])\n"
     ]
    }
   ],
   "source": [
    "print(len(cqt_final_dict.keys()))\n",
    "print(cqt_final_dict.keys())"
   ]
  },
  {
   "attachments": {},
   "cell_type": "markdown",
   "metadata": {},
   "source": [
    "# Shaping into x and y"
   ]
  },
  {
   "cell_type": "code",
   "execution_count": 26,
   "metadata": {},
   "outputs": [],
   "source": [
    "# Shaping parameters\n",
    "batch_size = 32\n",
    "time_slices = 350\n",
    "frequency_bins_x = 288\n",
    "duration_x = 5\n",
    "channels_x = 1\n",
    "keys_y = 88"
   ]
  },
  {
   "cell_type": "code",
   "execution_count": 10,
   "metadata": {},
   "outputs": [],
   "source": [
    "x_parameters = {\n",
    "    'batch_size': batch_size,\n",
    "    'time_slices': time_slices,\n",
    "    'frequency_bins': frequency_bins_x,\n",
    "    'duration': duration_x,\n",
    "    'channels': channels_x}\n",
    "\n",
    "y_parameters = {\n",
    "    'batch_size': batch_size,\n",
    "    'time_slices': time_slices,\n",
    "    'num_keys': keys_y\n",
    "}"
   ]
  },
  {
   "cell_type": "code",
   "execution_count": 51,
   "metadata": {},
   "outputs": [
    {
     "name": "stdout",
     "output_type": "stream",
     "text": [
      "min_ret 6114\n",
      "max_ret 110392\n",
      "45800.76344086022\n",
      "84.0\n"
     ]
    }
   ],
   "source": [
    "# x : (84, 32, 360, 5, 1)\n",
    "# y : (88, 32, 360)\n",
    "\n",
    "x = []\n",
    "count = 0\n",
    "count_0 = 0\n",
    "max_ret = 0\n",
    "min_ret = float(\"inf\")\n",
    "for idx, audio in cqt_final_dict.items():\n",
    "    # print(\"Shape 0:\" , audio.shape[0])\n",
    "    # print(\"Shape 1:\" , audio.shape[1])\n",
    "    count += audio.shape[1]\n",
    "    count_0 += audio.shape[0]\n",
    "    # print(audio.shape[1]*audio.shape[0])\n",
    "    max_ret = max(max_ret, audio.shape[1])\n",
    "    min_ret = min(min_ret, audio.shape[1])\n",
    "print(\"min_ret\", min_ret)\n",
    "print(\"max_ret\", max_ret)\n",
    "print(count/93)\n",
    "print(count_0/93)"
   ]
  },
  {
   "cell_type": "code",
   "execution_count": 70,
   "metadata": {},
   "outputs": [],
   "source": [
    "import numpy as np\n",
    "\n",
    "# Target shape constants\n",
    "target_shape = (84, 32, 360, 5, 1)\n",
    "required_elements = np.prod(target_shape)\n",
    "\n",
    "# Initialize a new dictionary to store the reshaped arrays\n",
    "reshaped_cqt_dict = {}\n",
    "\n",
    "for key, spectrogram in cqt_final_dict.items():\n",
    "    # Get the current shape of the spectrogram\n",
    "    current_shape = spectrogram.shape\n",
    "    num_elements = current_shape[0] * current_shape[1]\n",
    "\n",
    "    # Flatten the array to a 1D vector\n",
    "    flat_spectrogram = spectrogram.flatten()\n",
    "\n",
    "    # Check if padding or truncation is needed\n",
    "    if num_elements < required_elements:\n",
    "        # Pad with zeros if the spectrogram has fewer elements\n",
    "        flat_spectrogram = np.pad(flat_spectrogram, (0, required_elements - num_elements), 'constant')\n",
    "    elif num_elements > required_elements:\n",
    "        # Truncate if there are more elements than needed\n",
    "        flat_spectrogram = flat_spectrogram[:required_elements]\n",
    "\n",
    "    # Reshape to the target shape\n",
    "    reshaped_spectrogram = flat_spectrogram.reshape(target_shape)\n",
    "\n",
    "    # Store in the new dictionary\n",
    "    reshaped_cqt_dict[key] = reshaped_spectrogram\n",
    "\n",
    "# Now reshaped_cqt_dict contains all spectrograms in the desired shape"
   ]
  },
  {
   "cell_type": "code",
   "execution_count": 69,
   "metadata": {},
   "outputs": [
    {
     "name": "stdout",
     "output_type": "stream",
     "text": [
      "(32, 360, 84, 5, 1)\n",
      "(84, 30331)\n",
      "(84, 32)\n",
      "(32, 84)\n",
      "[[ True False False ... False False False]\n",
      " [False False False ... False False False]\n",
      " [False False False ... False False False]\n",
      " ...\n",
      " [False False False ... False False False]\n",
      " [False False False ... False False False]\n",
      " [False False False ... False False False]]\n"
     ]
    }
   ],
   "source": [
    "for idx, value in reshaped_cqt_dict.items():\n",
    "    first = value\n",
    "    break\n",
    "print(first.shape)\n",
    "\n",
    "for orgid, org_val in cqt_final_dict.items():\n",
    "    org_first = org_val\n",
    "    break\n",
    "print(org_first.shape)\n",
    "\n",
    "orgv = org_first[:, :32]\n",
    "fir = first[:, 0, :, 0, 0]\n",
    "print(orgv.shape)\n",
    "print(fir.shape)\n",
    "print(fir.T==orgv)"
   ]
  },
  {
   "cell_type": "code",
   "execution_count": 39,
   "metadata": {},
   "outputs": [
    {
     "name": "stdout",
     "output_type": "stream",
     "text": [
      "min_ret 14140\n",
      "max_ret 256228\n",
      "106282.04301075269\n",
      "128.0\n"
     ]
    }
   ],
   "source": [
    "# x : (84, 32, 360, 5, 1)\n",
    "# y : (84, 32, 360)\n",
    "\n",
    "y = []\n",
    "count = 0\n",
    "count_0 = 0\n",
    "max_ret = 0\n",
    "min_ret = float(\"inf\")\n",
    "\n",
    "for idx, midi in midi_final_dict.items():\n",
    "    # print(\"Shape 0:\" , midi.shape[0])\n",
    "    # print(\"Shape 1:\" , midi.shape[1])\n",
    "    count += midi.shape[1]\n",
    "    count_0 += midi.shape[0]\n",
    "    # print(midi.shape[1]*midi.shape[0])\n",
    "    max_ret = max(max_ret, midi.shape[1])\n",
    "    min_ret = min(min_ret, midi.shape[1])\n",
    "print(\"min_ret\", min_ret)\n",
    "print(\"max_ret\", max_ret)\n",
    "print(count/93)\n",
    "print(count_0/93)"
   ]
  },
  {
   "cell_type": "code",
   "execution_count": null,
   "metadata": {},
   "outputs": [],
   "source": [
    "# A0 is 21, C8 is 108"
   ]
  },
  {
   "cell_type": "code",
   "execution_count": null,
   "metadata": {},
   "outputs": [],
   "source": [
    "import numpy as np\n",
    "\n",
    "# Target shape constants\n",
    "target_shape = (88, 32, 360)\n",
    "required_elements = np.prod(target_shape)\n",
    "\n",
    "# Initialize a new dictionary to store the reshaped arrays\n",
    "reshaped_midi_dict = {}\n",
    "\n",
    "for key, midi_array in midi_final_dict.items():\n",
    "    # Select rows from 21 to 108 (inclusive)\n",
    "    piano_segment = midi_array[21:109, :]\n",
    "\n",
    "    # Flatten the selected segment\n",
    "    flat_segment = piano_segment.flatten()\n",
    "    num_elements = flat_segment.size\n",
    "\n",
    "    # Check if padding or truncation is needed\n",
    "    if num_elements < required_elements:\n",
    "        # Pad with zeros if there are fewer elements\n",
    "        flat_segment = np.pad(flat_segment, (0, required_elements - num_elements), 'constant')\n",
    "    elif num_elements > required_elements:\n",
    "        # Truncate if there are more elements\n",
    "        flat_segment = flat_segment[:required_elements]\n",
    "\n",
    "    # Reshape to the target shape\n",
    "    reshaped_segment = flat_segment.reshape(target_shape)\n",
    "\n",
    "    # Store in the new dictionary\n",
    "    reshaped_midi_dict[key] = reshaped_segment\n",
    "\n",
    "# Now reshaped_midi_dict contains all MIDI arrays in the desired shape"
   ]
  },
  {
   "attachments": {},
   "cell_type": "markdown",
   "metadata": {},
   "source": [
    "# Hyperparameters and Training"
   ]
  },
  {
   "cell_type": "code",
   "execution_count": 9,
   "metadata": {},
   "outputs": [],
   "source": [
    "# Hyperparameters for the model\n"
   ]
  },
  {
   "cell_type": "code",
   "execution_count": null,
   "metadata": {},
   "outputs": [],
   "source": []
  }
 ],
 "metadata": {
  "kernelspec": {
   "display_name": ".venv",
   "language": "python",
   "name": "python3"
  },
  "language_info": {
   "codemirror_mode": {
    "name": "ipython",
    "version": 3
   },
   "file_extension": ".py",
   "mimetype": "text/x-python",
   "name": "python",
   "nbconvert_exporter": "python",
   "pygments_lexer": "ipython3",
   "version": "3.10.13"
  },
  "orig_nbformat": 4
 },
 "nbformat": 4,
 "nbformat_minor": 2
}
