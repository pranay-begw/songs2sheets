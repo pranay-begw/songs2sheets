{
 "cells": [
  {
   "cell_type": "code",
   "execution_count": 1,
   "metadata": {},
   "outputs": [],
   "source": [
    "import pandas\n",
    "import torch\n",
    "import torch.nn.functional as F\n",
    "import numpy\n",
    "import random\n",
    "import sklearn.metrics as metrics\n",
    "import json\n",
    "import pretty_midi\n",
    "import librosa\n",
    "\n",
    "# import transformers and matplotlib in the cell when you call them, not globally"
   ]
  },
  {
   "cell_type": "code",
   "execution_count": 2,
   "metadata": {},
   "outputs": [],
   "source": [
    "json_path = '/home/hice1/amardia6/scratch/deepLearning/maestro-v3.0.0/maestro-v3.0.0.json'"
   ]
  },
  {
   "cell_type": "code",
   "execution_count": 7,
   "metadata": {},
   "outputs": [],
   "source": [
    "def load_train_data(json_path):\n",
    "    with open(json_path, 'r') as file:\n",
    "        train_data = json.load(file)\n",
    "    return train_data\n",
    "\n",
    "# train_data = load_train_data(json_path)ces once pickle file is complete \n",
    "# indices_2018 = [index for index, year in train_data.items() if year == 2018]"
   ]
  },
  {
   "cell_type": "code",
   "execution_count": 8,
   "metadata": {},
   "outputs": [],
   "source": [
    "# Pickle file stuff"
   ]
  },
  {
   "cell_type": "code",
   "execution_count": 9,
   "metadata": {},
   "outputs": [],
   "source": [
    "# Hyperparameters for the model\n",
    "batch_size = 32\n",
    "time_slices = 350\n",
    "frequency_bins_x = 288\n",
    "duration_x = 5\n",
    "channels_x = 1\n",
    "keys_y = 88"
   ]
  },
  {
   "cell_type": "code",
   "execution_count": 10,
   "metadata": {},
   "outputs": [],
   "source": [
    "x_parameters = {\n",
    "    'batch_size': batch_size,\n",
    "    'time_slices': time_slices,\n",
    "    'frequency_bins': frequency_bins_x,\n",
    "    'duration': duration_x,\n",
    "    'channels': channels_x}\n",
    "\n",
    "y_parameters = {\n",
    "    'batch_size': batch_size,\n",
    "    'time_slices': time_slices,\n",
    "    'num_keys': keys_y\n",
    "}"
   ]
  },
  {
   "cell_type": "code",
   "execution_count": null,
   "metadata": {},
   "outputs": [],
   "source": []
  }
 ],
 "metadata": {
  "kernelspec": {
   "display_name": ".venv",
   "language": "python",
   "name": "python3"
  },
  "language_info": {
   "codemirror_mode": {
    "name": "ipython",
    "version": 3
   },
   "file_extension": ".py",
   "mimetype": "text/x-python",
   "name": "python",
   "nbconvert_exporter": "python",
   "pygments_lexer": "ipython3",
   "version": "3.10.13"
  },
  "orig_nbformat": 4
 },
 "nbformat": 4,
 "nbformat_minor": 2
}
