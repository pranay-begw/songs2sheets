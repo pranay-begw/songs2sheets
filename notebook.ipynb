{
 "cells": [
  {
   "cell_type": "code",
   "execution_count": 2,
   "metadata": {},
   "outputs": [],
   "source": [
    "import pandas\n",
    "import torch\n",
    "import torch.nn.functional as F\n",
    "import numpy\n",
    "import random\n",
    "import sklearn.metrics as metrics\n",
    "\n",
    "import pretty_midi\n",
    "import librosa\n",
    "\n",
    "# import transformers and matplotlib in the cell when you call them, not globally"
   ]
  },
  {
   "cell_type": "code",
   "execution_count": 3,
   "metadata": {},
   "outputs": [],
   "source": [
    "# STFT (Short-Time Fourier\n",
    "# Transform), Mel Filterbank Cepstrum (MFCC) and\n",
    "# constant Q transform (CQT). "
   ]
  }
 ],
 "metadata": {
  "kernelspec": {
   "display_name": ".venv",
   "language": "python",
   "name": "python3"
  },
  "language_info": {
   "codemirror_mode": {
    "name": "ipython",
    "version": 3
   },
   "file_extension": ".py",
   "mimetype": "text/x-python",
   "name": "python",
   "nbconvert_exporter": "python",
   "pygments_lexer": "ipython3",
   "version": "3.10.13"
  },
  "orig_nbformat": 4
 },
 "nbformat": 4,
 "nbformat_minor": 2
}
